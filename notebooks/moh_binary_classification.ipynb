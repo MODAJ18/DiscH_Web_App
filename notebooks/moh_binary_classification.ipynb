{
 "cells": [
  {
   "cell_type": "code",
   "execution_count": 1,
   "id": "d1aa2d9a",
   "metadata": {},
   "outputs": [],
   "source": [
    "import pandas as pd"
   ]
  },
  {
   "cell_type": "code",
   "execution_count": 49,
   "id": "797213d8",
   "metadata": {},
   "outputs": [],
   "source": [
    "responses_df = pd.read_excel(\"../Data/responses_data_500.xlsx\")"
   ]
  },
  {
   "cell_type": "code",
   "execution_count": 50,
   "id": "93910207",
   "metadata": {},
   "outputs": [],
   "source": [
    "def prepare_df(df):\n",
    "    df = df.copy().rename(columns={\"description\":'question_description'})\n",
    "    df  = df[['question_description', 'answer_category_num']]\n",
    "    df.drop_duplicates(subset='question_description', inplace=True)\n",
    "    df.reset_index(drop=True, inplace=True)\n",
    "    \n",
    "    # checking how many comments have different votes\n",
    "    for i, row in df.iterrows():\n",
    "\n",
    "        comment = row.question_description\n",
    "\n",
    "        # getting the dataframe for that comment\n",
    "        temp_df = df[df.question_description == comment]\n",
    "\n",
    "        # how many unique answers that comment has\n",
    "        n_ = temp_df.answer_category_num.nunique()\n",
    "\n",
    "        # changing the answer_category_num to the most frequent one\n",
    "        if n_ >= 2:\n",
    "            most_voted_label = temp_df.answer_category_num.value_counts().index[0]\n",
    "            df.at[i, 'answer_category_num'] = most_voted_label\n",
    "            \n",
    "    return df"
   ]
  },
  {
   "cell_type": "code",
   "execution_count": 51,
   "id": "fad1fa58",
   "metadata": {},
   "outputs": [],
   "source": [
    "responses_df_clean = prepare_df(responses_df)"
   ]
  },
  {
   "cell_type": "markdown",
   "id": "1c8391a0",
   "metadata": {},
   "source": [
    "## `turning the problem into binary classification`"
   ]
  },
  {
   "cell_type": "markdown",
   "id": "bc0c3fb8",
   "metadata": {},
   "source": [
    "### hate / not hate"
   ]
  },
  {
   "cell_type": "code",
   "execution_count": 52,
   "id": "ee549f00",
   "metadata": {},
   "outputs": [],
   "source": [
    "from sklearn.feature_extraction.text import TfidfVectorizer\n",
    "\n",
    "from sklearn.linear_model import LogisticRegression\n",
    "from sklearn.ensemble import RandomForestClassifier\n",
    "from sklearn.tree import DecisionTreeClassifier\n",
    "from sklearn.neighbors import KNeighborsClassifier\n",
    "from sklearn.linear_model import SGDClassifier\n",
    "from sklearn.naive_bayes import MultinomialNB\n",
    "\n",
    "from sklearn.metrics import accuracy_score, classification_report\n",
    "from sklearn.model_selection import train_test_split"
   ]
  },
  {
   "cell_type": "code",
   "execution_count": 135,
   "id": "ee3e7559",
   "metadata": {},
   "outputs": [],
   "source": [
    "# Model definitions\n",
    "LogReg_model = LogisticRegression()\n",
    "RandomForestClassifier_model = RandomForestClassifier(max_depth=3, random_state=0)\n",
    "\n",
    "MultinomialNB_model = MultinomialNB(alpha=0.1, class_prior=None, fit_prior=True)\n",
    "SGDClassifier_model = SGDClassifier(class_weight='balanced', penalty='l1')\n",
    "KNeighborsClassifier_model = KNeighborsClassifier(n_neighbors=3)\n",
    "DecisionTreeClassifier_model = DecisionTreeClassifier(random_state=0)\n",
    "\n",
    "models = [LogReg_model, RandomForestClassifier_model, DecisionTreeClassifier_model,\n",
    "          SGDClassifier_model,   \n",
    "          KNeighborsClassifier_model,  MultinomialNB_model]\n",
    "model_names = ['LogisticRegression', 'RandomForestClassifier', 'DecisionTreeClassifier',\n",
    "               'SGDClassifier', 'KNeighborsClassifier', 'MultinomialNB']"
   ]
  },
  {
   "cell_type": "code",
   "execution_count": 136,
   "id": "994d3e15",
   "metadata": {},
   "outputs": [],
   "source": [
    "def binarize_classes(df, class_chosen=\"hate\"):\n",
    "    responses_df_binary = df.copy()\n",
    "    \n",
    "    \n",
    "    data_classes = responses_df_binary[\"answer_category_num\"].unique()\n",
    "    if class_chosen not in data_classes:\n",
    "        mapping_classes = {'Religious affiliation': \"hate\", \n",
    "                           'Violent': \"hate\", \n",
    "                           'Racist': \"hate\", \n",
    "                           'Mockery': \"hate\",\n",
    "                           'Sexual harrasment': \"hate\", \n",
    "                           'Normal': \"not hate\"}\n",
    "    else:\n",
    "        mapping_classes = {}\n",
    "        for class_i in data_classes:\n",
    "            if class_i == class_chosen:\n",
    "                mapping_classes[class_i] = \"{}\".format(class_chosen)\n",
    "            else:\n",
    "                mapping_classes[class_i] = \"not {}\".format(class_chosen)\n",
    "    \n",
    "    responses_df_binary = responses_df_binary.replace({\"answer_category_num\": mapping_classes})\n",
    "    return responses_df_binary\n",
    "        "
   ]
  },
  {
   "cell_type": "code",
   "execution_count": 137,
   "id": "165a5a8a",
   "metadata": {},
   "outputs": [],
   "source": [
    "def train_and_evaluate(df, model_names):\n",
    "    def train_models(X_tr, X_te, y_tr, y_te):\n",
    "        for i, model in enumerate(models):\n",
    "            print(f\"Model: {model_names[i]}\")\n",
    "            model.fit(X_tr, y_tr)\n",
    "            y_pred = model.predict(X_te)\n",
    "            print('val accuracy %s' % accuracy_score(y_te, y_pred))\n",
    "            # print(classification_report(y_te, y_pred))  # for further evaluation\n",
    "            print()\n",
    "    \n",
    "    train_data, test_data = train_test_split(df, test_size=0.15, random_state=42)\n",
    "    tfidf_vectorizer = TfidfVectorizer(ngram_range=(1, 1))\n",
    "    tfidf_tr = tfidf_vectorizer.fit_transform(train_data['question_description'])\n",
    "    tfidf_val = tfidf_vectorizer.transform(test_data['question_description'])\n",
    "    \n",
    "    X_train, y_train = tfidf_tr, train_data['answer_category_num']\n",
    "    X_test, y_test = tfidf_val, test_data['answer_category_num']\n",
    "    \n",
    "    train_models(X_train, X_test, y_train, y_test)"
   ]
  },
  {
   "cell_type": "markdown",
   "id": "29428603",
   "metadata": {},
   "source": [
    "---"
   ]
  },
  {
   "cell_type": "code",
   "execution_count": 138,
   "id": "d5130877",
   "metadata": {},
   "outputs": [
    {
     "data": {
      "text/html": [
       "<div>\n",
       "<style scoped>\n",
       "    .dataframe tbody tr th:only-of-type {\n",
       "        vertical-align: middle;\n",
       "    }\n",
       "\n",
       "    .dataframe tbody tr th {\n",
       "        vertical-align: top;\n",
       "    }\n",
       "\n",
       "    .dataframe thead th {\n",
       "        text-align: right;\n",
       "    }\n",
       "</style>\n",
       "<table border=\"1\" class=\"dataframe\">\n",
       "  <thead>\n",
       "    <tr style=\"text-align: right;\">\n",
       "      <th></th>\n",
       "      <th>question_description</th>\n",
       "      <th>answer_category_num</th>\n",
       "    </tr>\n",
       "  </thead>\n",
       "  <tbody>\n",
       "    <tr>\n",
       "      <th>0</th>\n",
       "      <td>وزير الخارجية اللبناني جبران باسيل قال في سلسل...</td>\n",
       "      <td>hate</td>\n",
       "    </tr>\n",
       "    <tr>\n",
       "      <th>1</th>\n",
       "      <td>سورية بلد الحضارات تربطها بعلية او بحيوان</td>\n",
       "      <td>hate</td>\n",
       "    </tr>\n",
       "    <tr>\n",
       "      <th>2</th>\n",
       "      <td>اخي الحاج اذا شعرت انك محرجا من الانتقادات لتص...</td>\n",
       "      <td>not hate</td>\n",
       "    </tr>\n",
       "    <tr>\n",
       "      <th>3</th>\n",
       "      <td>ما فيك تعيش بلا ما تكب فتن ليل نهار وبكرة قلهم...</td>\n",
       "      <td>not hate</td>\n",
       "    </tr>\n",
       "    <tr>\n",
       "      <th>4</th>\n",
       "      <td>هذا البطل الذي قاتل وجاذف بحياته لتحيا انت يا ...</td>\n",
       "      <td>hate</td>\n",
       "    </tr>\n",
       "  </tbody>\n",
       "</table>\n",
       "</div>"
      ],
      "text/plain": [
       "                                question_description answer_category_num\n",
       "0  وزير الخارجية اللبناني جبران باسيل قال في سلسل...                hate\n",
       "1          سورية بلد الحضارات تربطها بعلية او بحيوان                hate\n",
       "2  اخي الحاج اذا شعرت انك محرجا من الانتقادات لتص...            not hate\n",
       "3  ما فيك تعيش بلا ما تكب فتن ليل نهار وبكرة قلهم...            not hate\n",
       "4  هذا البطل الذي قاتل وجاذف بحياته لتحيا انت يا ...                hate"
      ]
     },
     "metadata": {},
     "output_type": "display_data"
    },
    {
     "name": "stdout",
     "output_type": "stream",
     "text": [
      "\n",
      "Model: LogisticRegression\n",
      "val accuracy 0.8421052631578947\n",
      "\n",
      "Model: RandomForestClassifier\n",
      "val accuracy 0.8421052631578947\n",
      "\n",
      "Model: DecisionTreeClassifier\n",
      "val accuracy 0.7192982456140351\n",
      "\n",
      "Model: SGDClassifier\n",
      "val accuracy 0.7368421052631579\n",
      "\n",
      "Model: KNeighborsClassifier\n",
      "val accuracy 0.7719298245614035\n",
      "\n",
      "Model: MultinomialNB\n",
      "val accuracy 0.8245614035087719\n",
      "\n"
     ]
    }
   ],
   "source": [
    "# hate/not hate\n",
    "responses_df_binary_main = binarize_classes(responses_df_clean, class_chosen=\"hate\")\n",
    "display(responses_df_binary_main.head())\n",
    "print()\n",
    "\n",
    "train_and_evaluate(responses_df_binary_main, model_names)"
   ]
  },
  {
   "cell_type": "code",
   "execution_count": 139,
   "id": "1b90d052",
   "metadata": {},
   "outputs": [
    {
     "name": "stdout",
     "output_type": "stream",
     "text": [
      "Model: LogisticRegression\n",
      "val accuracy 0.8421052631578947\n",
      "\n",
      "Model: RandomForestClassifier\n",
      "val accuracy 0.8421052631578947\n",
      "\n",
      "Model: DecisionTreeClassifier\n",
      "val accuracy 0.8070175438596491\n",
      "\n",
      "Model: SGDClassifier\n",
      "val accuracy 0.631578947368421\n",
      "\n",
      "Model: KNeighborsClassifier\n",
      "val accuracy 0.8070175438596491\n",
      "\n",
      "Model: MultinomialNB\n",
      "val accuracy 0.8245614035087719\n",
      "\n"
     ]
    }
   ],
   "source": [
    "# Religious affiliation / not Religious affiliation\n",
    "responses_df_binary_main = binarize_classes(responses_df_clean, class_chosen=\"Religious affiliation\")\n",
    "train_and_evaluate(responses_df_binary_main, model_names)"
   ]
  },
  {
   "cell_type": "code",
   "execution_count": 140,
   "id": "67bdfc87",
   "metadata": {},
   "outputs": [
    {
     "name": "stdout",
     "output_type": "stream",
     "text": [
      "Model: LogisticRegression\n",
      "val accuracy 0.7543859649122807\n",
      "\n",
      "Model: RandomForestClassifier\n",
      "val accuracy 0.7543859649122807\n",
      "\n",
      "Model: DecisionTreeClassifier\n",
      "val accuracy 0.7543859649122807\n",
      "\n",
      "Model: SGDClassifier\n",
      "val accuracy 0.6140350877192983\n",
      "\n",
      "Model: KNeighborsClassifier\n",
      "val accuracy 0.7368421052631579\n",
      "\n",
      "Model: MultinomialNB\n",
      "val accuracy 0.7368421052631579\n",
      "\n"
     ]
    }
   ],
   "source": [
    "# Violent / not Violent\n",
    "responses_df_binary_main = binarize_classes(responses_df_clean, class_chosen=\"Violent\")\n",
    "train_and_evaluate(responses_df_binary_main, model_names)"
   ]
  },
  {
   "cell_type": "code",
   "execution_count": 141,
   "id": "20249e13",
   "metadata": {},
   "outputs": [
    {
     "name": "stdout",
     "output_type": "stream",
     "text": [
      "Model: LogisticRegression\n",
      "val accuracy 0.9122807017543859\n",
      "\n",
      "Model: RandomForestClassifier\n",
      "val accuracy 0.9122807017543859\n",
      "\n",
      "Model: DecisionTreeClassifier\n",
      "val accuracy 0.8070175438596491\n",
      "\n",
      "Model: SGDClassifier\n",
      "val accuracy 0.7017543859649122\n",
      "\n",
      "Model: KNeighborsClassifier\n",
      "val accuracy 0.8771929824561403\n",
      "\n",
      "Model: MultinomialNB\n",
      "val accuracy 0.9122807017543859\n",
      "\n"
     ]
    }
   ],
   "source": [
    "# Racist / not Racist\n",
    "responses_df_binary_main = binarize_classes(responses_df_clean, class_chosen=\"Racist\")\n",
    "train_and_evaluate(responses_df_binary_main, model_names)"
   ]
  },
  {
   "cell_type": "code",
   "execution_count": 142,
   "id": "50b626b5",
   "metadata": {},
   "outputs": [
    {
     "name": "stdout",
     "output_type": "stream",
     "text": [
      "Model: LogisticRegression\n",
      "val accuracy 0.7719298245614035\n",
      "\n",
      "Model: RandomForestClassifier\n",
      "val accuracy 0.7719298245614035\n",
      "\n",
      "Model: DecisionTreeClassifier\n",
      "val accuracy 0.6666666666666666\n",
      "\n",
      "Model: SGDClassifier\n",
      "val accuracy 0.5964912280701754\n",
      "\n",
      "Model: KNeighborsClassifier\n",
      "val accuracy 0.6491228070175439\n",
      "\n",
      "Model: MultinomialNB\n",
      "val accuracy 0.7017543859649122\n",
      "\n"
     ]
    }
   ],
   "source": [
    "# Mockery / not Mockery\n",
    "responses_df_binary_main = binarize_classes(responses_df_clean, class_chosen=\"Mockery\")\n",
    "train_and_evaluate(responses_df_binary_main, model_names)"
   ]
  },
  {
   "cell_type": "code",
   "execution_count": 143,
   "id": "f610d911",
   "metadata": {},
   "outputs": [
    {
     "name": "stdout",
     "output_type": "stream",
     "text": [
      "Model: LogisticRegression\n",
      "val accuracy 0.8771929824561403\n",
      "\n",
      "Model: RandomForestClassifier\n",
      "val accuracy 0.8771929824561403\n",
      "\n",
      "Model: DecisionTreeClassifier\n",
      "val accuracy 0.8070175438596491\n",
      "\n",
      "Model: SGDClassifier\n",
      "val accuracy 0.7543859649122807\n",
      "\n",
      "Model: KNeighborsClassifier\n",
      "val accuracy 0.8596491228070176\n",
      "\n",
      "Model: MultinomialNB\n",
      "val accuracy 0.8771929824561403\n",
      "\n"
     ]
    }
   ],
   "source": [
    "# Sexual harrasment / not Sexual harrasment\n",
    "responses_df_binary_main = binarize_classes(responses_df_clean, class_chosen=\"Sexual harrasment\")\n",
    "train_and_evaluate(responses_df_binary_main, model_names)"
   ]
  },
  {
   "cell_type": "code",
   "execution_count": 144,
   "id": "792ba4e2",
   "metadata": {},
   "outputs": [
    {
     "name": "stdout",
     "output_type": "stream",
     "text": [
      "Model: LogisticRegression\n",
      "val accuracy 0.9122807017543859\n",
      "\n",
      "Model: RandomForestClassifier\n",
      "val accuracy 0.9122807017543859\n",
      "\n",
      "Model: DecisionTreeClassifier\n",
      "val accuracy 0.8070175438596491\n",
      "\n",
      "Model: SGDClassifier\n",
      "val accuracy 0.7192982456140351\n",
      "\n",
      "Model: KNeighborsClassifier\n",
      "val accuracy 0.8771929824561403\n",
      "\n",
      "Model: MultinomialNB\n",
      "val accuracy 0.9122807017543859\n",
      "\n"
     ]
    }
   ],
   "source": [
    "# Racist / not Racist\n",
    "responses_df_binary_main = binarize_classes(responses_df_clean, class_chosen=\"Racist\")\n",
    "train_and_evaluate(responses_df_binary_main, model_names)"
   ]
  }
 ],
 "metadata": {
  "kernelspec": {
   "display_name": "mc-tf",
   "language": "python",
   "name": "mc-tf"
  },
  "language_info": {
   "codemirror_mode": {
    "name": "ipython",
    "version": 3
   },
   "file_extension": ".py",
   "mimetype": "text/x-python",
   "name": "python",
   "nbconvert_exporter": "python",
   "pygments_lexer": "ipython3",
   "version": "3.9.15"
  }
 },
 "nbformat": 4,
 "nbformat_minor": 5
}
