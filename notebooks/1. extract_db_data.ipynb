{
 "cells": [
  {
   "cell_type": "code",
   "execution_count": 1,
   "metadata": {},
   "outputs": [],
   "source": [
    "import psycopg2\n",
    "import glob\n",
    "import pandas as pd\n",
    "import os\n",
    "import subprocess\n",
    "import warnings\n",
    "warnings.filterwarnings('ignore')"
   ]
  },
  {
   "cell_type": "code",
   "execution_count": null,
   "metadata": {},
   "outputs": [],
   "source": [
    "# Get database credentials as dictionary\n",
    "result = subprocess.run(['heroku', 'pg:credentials:url', 'DATABASE',\n",
    "\t\t\t\t\t\t '--name', 'default', '-a', 'disch'], stdout=subprocess.PIPE, shell = True)\n",
    "\n",
    "cred_str = result.stdout.split(b'\\n')[2].decode(\"utf-8\").strip().strip('\"')\n",
    "cred_str_list = cred_str.split(\" \")\n",
    "creds = {}\n",
    "for cred in cred_str_list:\n",
    "\tcred_name, cred_val = cred.split('=')\n",
    "\tcreds[cred_name] = cred_val"
   ]
  },
  {
   "cell_type": "code",
   "execution_count": null,
   "metadata": {},
   "outputs": [],
   "source": [
    "# accessing the credentials\n",
    "database_name = creds['dbname']\n",
    "host = creds['host']\n",
    "port = creds['port']\n",
    "user = creds['user']\n",
    "password = creds['password']"
   ]
  },
  {
   "cell_type": "code",
   "execution_count": null,
   "metadata": {},
   "outputs": [],
   "source": [
    "# connect to database\n",
    "connection = psycopg2.connect(host=host, database=database_name, user=user, password=password, port=port)\n",
    "cursor = connection.cursor()"
   ]
  },
  {
   "cell_type": "code",
   "execution_count": null,
   "metadata": {},
   "outputs": [],
   "source": [
    "# fetching all database tables names \n",
    "# cursor.execute(\"\"\"SELECT table_name FROM information_schema.tables\n",
    "# \t   WHERE table_schema = 'public'\"\"\")\n",
    "# for table in cursor.fetchall():\n",
    "# \tprint(\"Table name:\", table[0])\n",
    "\n",
    "# \tPostgreSQL_select_Query = 'select * from \"{}\"'.format(table[0])\n",
    "# \tcursor.execute(PostgreSQL_select_Query)\n",
    "\n",
    "# \td = pd.read_sql_query(PostgreSQL_select_Query, connection)"
   ]
  },
  {
   "cell_type": "code",
   "execution_count": null,
   "metadata": {},
   "outputs": [],
   "source": [
    "# from protoype question to comment \n",
    "PostgreSQL_select_Query = '''SELECT * \n",
    "\t\t\t\t\t\t\tFROM \"DiscH_prototype_question\"\n",
    "\t\t\t\t\t\t\tJOIN \"DiscH_prototype_answer\"\n",
    "\t\t\t\t\t\t\tON \"DiscH_prototype_question\".question_id = \"DiscH_prototype_answer\".question_id_id '''\n",
    "\n",
    "\n",
    "# from protoype question to answer bow \n",
    "# PostgreSQL_select_Query = '''SELECT * \n",
    "# \t\t\t\t\t\t\tFROM \"DiscH_prototype_question\"\n",
    "# \t\t\t\t\t\t\tJOIN \"DiscH_prototype_answer_bow\"\n",
    "# \t\t\t\t\t\t\tON \"DiscH_prototype_question\".question_id = \"DiscH_prototype_answer_bow\".question_id_id '''\n",
    "\n",
    "cursor.execute(PostgreSQL_select_Query)\n",
    "\n",
    "\n",
    "data = pd.read_sql_query(PostgreSQL_select_Query, connection)\n",
    "\n",
    "\n",
    "dataframe = pd.DataFrame(data)\n",
    "dataframe.to_excel('imported_data.xlsx', index=False)"
   ]
  },
  {
   "cell_type": "code",
   "execution_count": null,
   "metadata": {},
   "outputs": [],
   "source": [
    "# closing the connection\n",
    "connection.close()"
   ]
  }
 ],
 "metadata": {
  "kernelspec": {
   "display_name": "Python 3.10.4 64-bit",
   "language": "python",
   "name": "python3"
  },
  "language_info": {
   "codemirror_mode": {
    "name": "ipython",
    "version": 3
   },
   "file_extension": ".py",
   "mimetype": "text/x-python",
   "name": "python",
   "nbconvert_exporter": "python",
   "pygments_lexer": "ipython3",
   "version": "3.10.4"
  },
  "orig_nbformat": 4,
  "vscode": {
   "interpreter": {
    "hash": "fb4569285eef3a3450cb62085a5b1e0da4bce0af555edc33dcf29baf3acc1368"
   }
  }
 },
 "nbformat": 4,
 "nbformat_minor": 2
}
