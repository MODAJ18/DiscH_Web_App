{
 "cells": [
  {
   "cell_type": "markdown",
   "id": "e507a7e4",
   "metadata": {},
   "source": [
    "# Import Libraries"
   ]
  },
  {
   "cell_type": "code",
   "execution_count": 1,
   "id": "506a4917",
   "metadata": {},
   "outputs": [],
   "source": [
    "import numpy as np\n",
    "import pandas as pd\n",
    "from sklearn.model_selection import train_test_split\n",
    "from nltk.corpus import stopwords \n",
    "from nltk.tokenize import word_tokenize \n",
    "from sklearn.feature_extraction.text import TfidfVectorizer\n",
    "from sklearn.svm import LinearSVC\n",
    "from sklearn.pipeline import Pipeline"
   ]
  },
  {
   "cell_type": "code",
   "execution_count": 3,
   "id": "441b4b07",
   "metadata": {},
   "outputs": [],
   "source": [
    "# Reading the data\n",
    "data = pd.read_excel('../data/responses_data.xlsx')"
   ]
  },
  {
   "cell_type": "code",
   "execution_count": 4,
   "id": "18e779d5",
   "metadata": {},
   "outputs": [
    {
     "data": {
      "text/html": [
       "<div>\n",
       "<style scoped>\n",
       "    .dataframe tbody tr th:only-of-type {\n",
       "        vertical-align: middle;\n",
       "    }\n",
       "\n",
       "    .dataframe tbody tr th {\n",
       "        vertical-align: top;\n",
       "    }\n",
       "\n",
       "    .dataframe thead th {\n",
       "        text-align: right;\n",
       "    }\n",
       "</style>\n",
       "<table border=\"1\" class=\"dataframe\">\n",
       "  <thead>\n",
       "    <tr style=\"text-align: right;\">\n",
       "      <th></th>\n",
       "      <th>question_id</th>\n",
       "      <th>description</th>\n",
       "      <th>num_response</th>\n",
       "      <th>label_in_question</th>\n",
       "      <th>answer_id</th>\n",
       "      <th>answer_category_num</th>\n",
       "      <th>answer_justification</th>\n",
       "      <th>answer_upvote</th>\n",
       "      <th>account_id_id</th>\n",
       "      <th>question_id_id</th>\n",
       "      <th>date</th>\n",
       "    </tr>\n",
       "  </thead>\n",
       "  <tbody>\n",
       "    <tr>\n",
       "      <th>0</th>\n",
       "      <td>4</td>\n",
       "      <td>ما فيك تعيش بلا ما تكب فتن ليل نهار وبكرة قلهم...</td>\n",
       "      <td>0</td>\n",
       "      <td>normal</td>\n",
       "      <td>147</td>\n",
       "      <td>Normal</td>\n",
       "      <td>none were given</td>\n",
       "      <td>0</td>\n",
       "      <td>52</td>\n",
       "      <td>4</td>\n",
       "      <td>2022-12-03</td>\n",
       "    </tr>\n",
       "    <tr>\n",
       "      <th>1</th>\n",
       "      <td>47</td>\n",
       "      <td>هؤلاء الخبثاء والخنازير أينما حلو يحل بارضهم ا...</td>\n",
       "      <td>0</td>\n",
       "      <td>hate</td>\n",
       "      <td>76</td>\n",
       "      <td>Violent</td>\n",
       "      <td>none were given</td>\n",
       "      <td>0</td>\n",
       "      <td>8</td>\n",
       "      <td>47</td>\n",
       "      <td>2022-11-19</td>\n",
       "    </tr>\n",
       "    <tr>\n",
       "      <th>2</th>\n",
       "      <td>2</td>\n",
       "      <td>سورية بلد الحضارات تربطها بعلية او بحيوان</td>\n",
       "      <td>2</td>\n",
       "      <td>normal</td>\n",
       "      <td>11</td>\n",
       "      <td>Racist</td>\n",
       "      <td>none were given</td>\n",
       "      <td>0</td>\n",
       "      <td>1</td>\n",
       "      <td>2</td>\n",
       "      <td>2022-09-09</td>\n",
       "    </tr>\n",
       "    <tr>\n",
       "      <th>3</th>\n",
       "      <td>2</td>\n",
       "      <td>سورية بلد الحضارات تربطها بعلية او بحيوان</td>\n",
       "      <td>2</td>\n",
       "      <td>normal</td>\n",
       "      <td>17</td>\n",
       "      <td>Normal</td>\n",
       "      <td>none were given</td>\n",
       "      <td>0</td>\n",
       "      <td>7</td>\n",
       "      <td>2</td>\n",
       "      <td>2022-09-19</td>\n",
       "    </tr>\n",
       "    <tr>\n",
       "      <th>4</th>\n",
       "      <td>2</td>\n",
       "      <td>سورية بلد الحضارات تربطها بعلية او بحيوان</td>\n",
       "      <td>2</td>\n",
       "      <td>normal</td>\n",
       "      <td>16</td>\n",
       "      <td>Religious affiliation</td>\n",
       "      <td>none were given</td>\n",
       "      <td>0</td>\n",
       "      <td>6</td>\n",
       "      <td>2</td>\n",
       "      <td>2022-09-19</td>\n",
       "    </tr>\n",
       "  </tbody>\n",
       "</table>\n",
       "</div>"
      ],
      "text/plain": [
       "   question_id                                        description  \\\n",
       "0            4  ما فيك تعيش بلا ما تكب فتن ليل نهار وبكرة قلهم...   \n",
       "1           47  هؤلاء الخبثاء والخنازير أينما حلو يحل بارضهم ا...   \n",
       "2            2          سورية بلد الحضارات تربطها بعلية او بحيوان   \n",
       "3            2          سورية بلد الحضارات تربطها بعلية او بحيوان   \n",
       "4            2          سورية بلد الحضارات تربطها بعلية او بحيوان   \n",
       "\n",
       "   num_response label_in_question  answer_id    answer_category_num  \\\n",
       "0             0            normal        147                 Normal   \n",
       "1             0              hate         76                Violent   \n",
       "2             2            normal         11                 Racist   \n",
       "3             2            normal         17                 Normal   \n",
       "4             2            normal         16  Religious affiliation   \n",
       "\n",
       "  answer_justification  answer_upvote  account_id_id  question_id_id  \\\n",
       "0      none were given              0             52               4   \n",
       "1      none were given              0              8              47   \n",
       "2      none were given              0              1               2   \n",
       "3      none were given              0              7               2   \n",
       "4      none were given              0              6               2   \n",
       "\n",
       "        date  \n",
       "0 2022-12-03  \n",
       "1 2022-11-19  \n",
       "2 2022-09-09  \n",
       "3 2022-09-19  \n",
       "4 2022-09-19  "
      ]
     },
     "execution_count": 4,
     "metadata": {},
     "output_type": "execute_result"
    }
   ],
   "source": [
    "# Checking the head of the data\n",
    "data.head()"
   ]
  },
  {
   "cell_type": "code",
   "execution_count": 6,
   "id": "1c5a86be",
   "metadata": {},
   "outputs": [
    {
     "data": {
      "text/plain": [
       "(195, 11)"
      ]
     },
     "execution_count": 6,
     "metadata": {},
     "output_type": "execute_result"
    }
   ],
   "source": [
    "data.shape"
   ]
  },
  {
   "cell_type": "code",
   "execution_count": 7,
   "id": "185fb21c",
   "metadata": {},
   "outputs": [],
   "source": [
    "data.description = data.description.apply(str.strip)"
   ]
  },
  {
   "cell_type": "code",
   "execution_count": 8,
   "id": "6c142ebd",
   "metadata": {},
   "outputs": [
    {
     "data": {
      "text/plain": [
       "(195, 11)"
      ]
     },
     "execution_count": 8,
     "metadata": {},
     "output_type": "execute_result"
    }
   ],
   "source": [
    "# The shape of the data\n",
    "data.shape"
   ]
  },
  {
   "cell_type": "code",
   "execution_count": 9,
   "id": "aff168fe",
   "metadata": {},
   "outputs": [
    {
     "data": {
      "text/plain": [
       "Index(['question_id', 'description', 'num_response', 'label_in_question',\n",
       "       'answer_id', 'answer_category_num', 'answer_justification',\n",
       "       'answer_upvote', 'account_id_id', 'question_id_id', 'date'],\n",
       "      dtype='object')"
      ]
     },
     "execution_count": 9,
     "metadata": {},
     "output_type": "execute_result"
    }
   ],
   "source": [
    "# The columns of the data\n",
    "data.columns"
   ]
  },
  {
   "cell_type": "code",
   "execution_count": 10,
   "id": "2d1381a5",
   "metadata": {},
   "outputs": [
    {
     "name": "stdout",
     "output_type": "stream",
     "text": [
      "5\n"
     ]
    }
   ],
   "source": [
    "# checking how many comments are repeated\n",
    "i = 0\n",
    "for comment in data.description.unique():\n",
    "    temp_df = data[data.description == comment]\n",
    "    if temp_df.shape[0] >= 2:\n",
    "        \n",
    "        i+=1\n",
    "print(i)"
   ]
  },
  {
   "cell_type": "code",
   "execution_count": 11,
   "id": "9f6a6f74",
   "metadata": {},
   "outputs": [
    {
     "data": {
      "text/html": [
       "<div>\n",
       "<style scoped>\n",
       "    .dataframe tbody tr th:only-of-type {\n",
       "        vertical-align: middle;\n",
       "    }\n",
       "\n",
       "    .dataframe tbody tr th {\n",
       "        vertical-align: top;\n",
       "    }\n",
       "\n",
       "    .dataframe thead th {\n",
       "        text-align: right;\n",
       "    }\n",
       "</style>\n",
       "<table border=\"1\" class=\"dataframe\">\n",
       "  <thead>\n",
       "    <tr style=\"text-align: right;\">\n",
       "      <th></th>\n",
       "      <th>description</th>\n",
       "      <th>answer_category_num</th>\n",
       "    </tr>\n",
       "  </thead>\n",
       "  <tbody>\n",
       "    <tr>\n",
       "      <th>0</th>\n",
       "      <td>ما فيك تعيش بلا ما تكب فتن ليل نهار وبكرة قلهم...</td>\n",
       "      <td>Normal</td>\n",
       "    </tr>\n",
       "    <tr>\n",
       "      <th>1</th>\n",
       "      <td>هؤلاء الخبثاء والخنازير أينما حلو يحل بارضهم ا...</td>\n",
       "      <td>Violent</td>\n",
       "    </tr>\n",
       "  </tbody>\n",
       "</table>\n",
       "</div>"
      ],
      "text/plain": [
       "                                         description answer_category_num\n",
       "0  ما فيك تعيش بلا ما تكب فتن ليل نهار وبكرة قلهم...              Normal\n",
       "1  هؤلاء الخبثاء والخنازير أينما حلو يحل بارضهم ا...             Violent"
      ]
     },
     "execution_count": 11,
     "metadata": {},
     "output_type": "execute_result"
    }
   ],
   "source": [
    "clean_data = data.copy()\n",
    "clean_data  = clean_data[['description', 'answer_category_num']]\n",
    "clean_data.head(2)"
   ]
  },
  {
   "cell_type": "code",
   "execution_count": 13,
   "id": "877895d8",
   "metadata": {},
   "outputs": [
    {
     "data": {
      "text/plain": [
       "وزير الخارجية اللبناني جبران باسيل قال في سلسلة تغريداته عقب اختتام القمة العربية التنموية الاقتصادية والاجتماعية لمسنا تج…    7\n",
       "سورية بلد الحضارات تربطها بعلية او بحيوان                                                                                      6\n",
       "هيدا ايراني فارسي يهودي من احفاد القرده و الخنازير                                                                             2\n",
       "اخي الحاج اذا شعرت انك محرجا من الانتقادات لتصريح جبران باسيل لا داعي لأن تهاجم المنتقدين                                      2\n",
       "جعجع يقصف عمرك ياحشاش ياعميل ياوسخ خراس يبليك باتلك روح انضب يا زبالة                                                          2\n",
       "                                                                                                                              ..\n",
       "سوف يتحاسبو جميعالان الحق سلطان                                                                                                1\n",
       "طيب يا بغلة                                                                                                                    1\n",
       "شو بدك في هيدا حقو دولار  كلب عميل سوري                                                                                        1\n",
       "الحياة زنخة بس نفهمها                                                                                                          1\n",
       "الزعامة والتجربة بدن يكونوا اصحابها رجال مش صيصان خسئت يا جبران باسيل                                                          1\n",
       "Name: description, Length: 181, dtype: int64"
      ]
     },
     "execution_count": 13,
     "metadata": {},
     "output_type": "execute_result"
    }
   ],
   "source": [
    "clean_data.description.value_counts()"
   ]
  },
  {
   "cell_type": "code",
   "execution_count": 9,
   "id": "cbcc835d",
   "metadata": {},
   "outputs": [],
   "source": [
    "# removing duplicated descrptions/ comments\n",
    "clean_data.drop_duplicates(subset='description', inplace=True)\n",
    "clean_data.reset_index(drop=True, inplace=True)"
   ]
  },
  {
   "cell_type": "code",
   "execution_count": 10,
   "id": "f6fe61fc",
   "metadata": {},
   "outputs": [
    {
     "data": {
      "text/html": [
       "<div>\n",
       "<style scoped>\n",
       "    .dataframe tbody tr th:only-of-type {\n",
       "        vertical-align: middle;\n",
       "    }\n",
       "\n",
       "    .dataframe tbody tr th {\n",
       "        vertical-align: top;\n",
       "    }\n",
       "\n",
       "    .dataframe thead th {\n",
       "        text-align: right;\n",
       "    }\n",
       "</style>\n",
       "<table border=\"1\" class=\"dataframe\">\n",
       "  <thead>\n",
       "    <tr style=\"text-align: right;\">\n",
       "      <th></th>\n",
       "      <th>description</th>\n",
       "      <th>answer_category_num</th>\n",
       "    </tr>\n",
       "  </thead>\n",
       "  <tbody>\n",
       "    <tr>\n",
       "      <th>0</th>\n",
       "      <td>وزير الخارجية اللبناني جبران باسيل قال في سلسل...</td>\n",
       "      <td>Religious affiliation</td>\n",
       "    </tr>\n",
       "    <tr>\n",
       "      <th>1</th>\n",
       "      <td>سورية بلد الحضارات تربطها بعلية او بحيوان</td>\n",
       "      <td>Violent</td>\n",
       "    </tr>\n",
       "    <tr>\n",
       "      <th>2</th>\n",
       "      <td>تقتلون وسام الحسن وتترحموعلية من أي أصناف المخ...</td>\n",
       "      <td>Racist</td>\n",
       "    </tr>\n",
       "    <tr>\n",
       "      <th>3</th>\n",
       "      <td>معك خبر انو بلدة قطر متل ما سميتا مساحتها اكبر...</td>\n",
       "      <td>Normal</td>\n",
       "    </tr>\n",
       "    <tr>\n",
       "      <th>4</th>\n",
       "      <td>للامانه قوت الموسم اللي طاف كان هوا بس متحمس ح...</td>\n",
       "      <td>Normal</td>\n",
       "    </tr>\n",
       "    <tr>\n",
       "      <th>...</th>\n",
       "      <td>...</td>\n",
       "      <td>...</td>\n",
       "    </tr>\n",
       "    <tr>\n",
       "      <th>70</th>\n",
       "      <td>ولك خلص بقى، خلص والله ارحم حالك، هيدي الصفات ...</td>\n",
       "      <td>Violent</td>\n",
       "    </tr>\n",
       "    <tr>\n",
       "      <th>71</th>\n",
       "      <td>زمن الاوغاد</td>\n",
       "      <td>Mockery</td>\n",
       "    </tr>\n",
       "    <tr>\n",
       "      <th>72</th>\n",
       "      <td>ما أوطاك</td>\n",
       "      <td>Mockery</td>\n",
       "    </tr>\n",
       "    <tr>\n",
       "      <th>73</th>\n",
       "      <td>خليت صرمايته لكم ياتسلاب ايران</td>\n",
       "      <td>Violent</td>\n",
       "    </tr>\n",
       "    <tr>\n",
       "      <th>74</th>\n",
       "      <td>انتي مسخرة بشرفي</td>\n",
       "      <td>Mockery</td>\n",
       "    </tr>\n",
       "  </tbody>\n",
       "</table>\n",
       "<p>75 rows × 2 columns</p>\n",
       "</div>"
      ],
      "text/plain": [
       "                                          description    answer_category_num\n",
       "0   وزير الخارجية اللبناني جبران باسيل قال في سلسل...  Religious affiliation\n",
       "1           سورية بلد الحضارات تربطها بعلية او بحيوان                Violent\n",
       "2   تقتلون وسام الحسن وتترحموعلية من أي أصناف المخ...                 Racist\n",
       "3   معك خبر انو بلدة قطر متل ما سميتا مساحتها اكبر...                 Normal\n",
       "4   للامانه قوت الموسم اللي طاف كان هوا بس متحمس ح...                 Normal\n",
       "..                                                ...                    ...\n",
       "70  ولك خلص بقى، خلص والله ارحم حالك، هيدي الصفات ...                Violent\n",
       "71                                        زمن الاوغاد                Mockery\n",
       "72                                           ما أوطاك                Mockery\n",
       "73                     خليت صرمايته لكم ياتسلاب ايران                Violent\n",
       "74                                   انتي مسخرة بشرفي                Mockery\n",
       "\n",
       "[75 rows x 2 columns]"
      ]
     },
     "execution_count": 10,
     "metadata": {},
     "output_type": "execute_result"
    }
   ],
   "source": [
    "clean_data"
   ]
  },
  {
   "cell_type": "code",
   "execution_count": 11,
   "id": "e1cd7148",
   "metadata": {},
   "outputs": [],
   "source": [
    "# checking how many comments have different votes\n",
    "for i, row in clean_data.iterrows():\n",
    "\n",
    "    comment = row.description\n",
    "\n",
    "    # getting the dataframe for that comment\n",
    "    temp_df = data[data.description == comment]\n",
    "    \n",
    "    # how many unique answers that comment has\n",
    "    n_ = temp_df.answer_category_num.nunique()\n",
    "\n",
    "    # changing the answer_category_num to the most frequent one\n",
    "    if n_ >= 2:\n",
    "        most_voted_label = temp_df.answer_category_num.value_counts().index[0]\n",
    "        clean_data.at[i, 'answer_category_num'] = most_voted_label"
   ]
  },
  {
   "cell_type": "code",
   "execution_count": 12,
   "id": "588fe077",
   "metadata": {},
   "outputs": [
    {
     "data": {
      "text/html": [
       "<div>\n",
       "<style scoped>\n",
       "    .dataframe tbody tr th:only-of-type {\n",
       "        vertical-align: middle;\n",
       "    }\n",
       "\n",
       "    .dataframe tbody tr th {\n",
       "        vertical-align: top;\n",
       "    }\n",
       "\n",
       "    .dataframe thead th {\n",
       "        text-align: right;\n",
       "    }\n",
       "</style>\n",
       "<table border=\"1\" class=\"dataframe\">\n",
       "  <thead>\n",
       "    <tr style=\"text-align: right;\">\n",
       "      <th></th>\n",
       "      <th>description</th>\n",
       "      <th>answer_category_num</th>\n",
       "    </tr>\n",
       "  </thead>\n",
       "  <tbody>\n",
       "    <tr>\n",
       "      <th>0</th>\n",
       "      <td>وزير الخارجية اللبناني جبران باسيل قال في سلسل...</td>\n",
       "      <td>Religious affiliation</td>\n",
       "    </tr>\n",
       "    <tr>\n",
       "      <th>1</th>\n",
       "      <td>سورية بلد الحضارات تربطها بعلية او بحيوان</td>\n",
       "      <td>Violent</td>\n",
       "    </tr>\n",
       "    <tr>\n",
       "      <th>2</th>\n",
       "      <td>تقتلون وسام الحسن وتترحموعلية من أي أصناف المخ...</td>\n",
       "      <td>Racist</td>\n",
       "    </tr>\n",
       "    <tr>\n",
       "      <th>3</th>\n",
       "      <td>معك خبر انو بلدة قطر متل ما سميتا مساحتها اكبر...</td>\n",
       "      <td>Normal</td>\n",
       "    </tr>\n",
       "    <tr>\n",
       "      <th>4</th>\n",
       "      <td>للامانه قوت الموسم اللي طاف كان هوا بس متحمس ح...</td>\n",
       "      <td>Normal</td>\n",
       "    </tr>\n",
       "    <tr>\n",
       "      <th>...</th>\n",
       "      <td>...</td>\n",
       "      <td>...</td>\n",
       "    </tr>\n",
       "    <tr>\n",
       "      <th>70</th>\n",
       "      <td>ولك خلص بقى، خلص والله ارحم حالك، هيدي الصفات ...</td>\n",
       "      <td>Violent</td>\n",
       "    </tr>\n",
       "    <tr>\n",
       "      <th>71</th>\n",
       "      <td>زمن الاوغاد</td>\n",
       "      <td>Mockery</td>\n",
       "    </tr>\n",
       "    <tr>\n",
       "      <th>72</th>\n",
       "      <td>ما أوطاك</td>\n",
       "      <td>Mockery</td>\n",
       "    </tr>\n",
       "    <tr>\n",
       "      <th>73</th>\n",
       "      <td>خليت صرمايته لكم ياتسلاب ايران</td>\n",
       "      <td>Violent</td>\n",
       "    </tr>\n",
       "    <tr>\n",
       "      <th>74</th>\n",
       "      <td>انتي مسخرة بشرفي</td>\n",
       "      <td>Mockery</td>\n",
       "    </tr>\n",
       "  </tbody>\n",
       "</table>\n",
       "<p>75 rows × 2 columns</p>\n",
       "</div>"
      ],
      "text/plain": [
       "                                          description    answer_category_num\n",
       "0   وزير الخارجية اللبناني جبران باسيل قال في سلسل...  Religious affiliation\n",
       "1           سورية بلد الحضارات تربطها بعلية او بحيوان                Violent\n",
       "2   تقتلون وسام الحسن وتترحموعلية من أي أصناف المخ...                 Racist\n",
       "3   معك خبر انو بلدة قطر متل ما سميتا مساحتها اكبر...                 Normal\n",
       "4   للامانه قوت الموسم اللي طاف كان هوا بس متحمس ح...                 Normal\n",
       "..                                                ...                    ...\n",
       "70  ولك خلص بقى، خلص والله ارحم حالك، هيدي الصفات ...                Violent\n",
       "71                                        زمن الاوغاد                Mockery\n",
       "72                                           ما أوطاك                Mockery\n",
       "73                     خليت صرمايته لكم ياتسلاب ايران                Violent\n",
       "74                                   انتي مسخرة بشرفي                Mockery\n",
       "\n",
       "[75 rows x 2 columns]"
      ]
     },
     "execution_count": 12,
     "metadata": {},
     "output_type": "execute_result"
    }
   ],
   "source": [
    "clean_data"
   ]
  },
  {
   "cell_type": "code",
   "execution_count": 13,
   "id": "0796c3c1",
   "metadata": {},
   "outputs": [
    {
     "data": {
      "text/plain": [
       "Normal                   21\n",
       "Mockery                  21\n",
       "Violent                  19\n",
       "Religious affiliation     7\n",
       "Racist                    7\n",
       "Name: answer_category_num, dtype: int64"
      ]
     },
     "execution_count": 13,
     "metadata": {},
     "output_type": "execute_result"
    }
   ],
   "source": [
    "# Generated Class\n",
    "clean_data.answer_category_num.value_counts()"
   ]
  },
  {
   "cell_type": "code",
   "execution_count": 14,
   "id": "0d1fe02e",
   "metadata": {},
   "outputs": [
    {
     "name": "stdout",
     "output_type": "stream",
     "text": [
      "<class 'pandas.core.frame.DataFrame'>\n",
      "RangeIndex: 75 entries, 0 to 74\n",
      "Data columns (total 2 columns):\n",
      " #   Column               Non-Null Count  Dtype \n",
      "---  ------               --------------  ----- \n",
      " 0   description          75 non-null     object\n",
      " 1   answer_category_num  75 non-null     object\n",
      "dtypes: object(2)\n",
      "memory usage: 1.3+ KB\n"
     ]
    }
   ],
   "source": [
    "# Checking the info\n",
    "clean_data.info()"
   ]
  },
  {
   "cell_type": "markdown",
   "id": "439e9bd1",
   "metadata": {},
   "source": [
    "We can see that there is no missing values"
   ]
  },
  {
   "cell_type": "code",
   "execution_count": 15,
   "id": "d5e1e907",
   "metadata": {},
   "outputs": [],
   "source": [
    "# Removing stop words for each tweet\n",
    "clean_data['tweet_no_stopwords'] = 'x'\n",
    "stop_words = set(stopwords.words('arabic')) \n",
    "for count, tweet in enumerate(clean_data.description):\n",
    "    word_tokens = word_tokenize(tweet)\n",
    "    filtered_tweet = []\n",
    "    for word in word_tokens:\n",
    "        if word not in stop_words:\n",
    "            filtered_tweet.append(word)\n",
    "    joined_filtered_tweet = \" \".join(filtered_tweet)\n",
    "    clean_data.tweet_no_stopwords[count] = joined_filtered_tweet"
   ]
  },
  {
   "cell_type": "code",
   "execution_count": 16,
   "id": "de3c7f9b",
   "metadata": {},
   "outputs": [
    {
     "data": {
      "text/html": [
       "<div>\n",
       "<style scoped>\n",
       "    .dataframe tbody tr th:only-of-type {\n",
       "        vertical-align: middle;\n",
       "    }\n",
       "\n",
       "    .dataframe tbody tr th {\n",
       "        vertical-align: top;\n",
       "    }\n",
       "\n",
       "    .dataframe thead th {\n",
       "        text-align: right;\n",
       "    }\n",
       "</style>\n",
       "<table border=\"1\" class=\"dataframe\">\n",
       "  <thead>\n",
       "    <tr style=\"text-align: right;\">\n",
       "      <th></th>\n",
       "      <th>description</th>\n",
       "      <th>answer_category_num</th>\n",
       "      <th>tweet_no_stopwords</th>\n",
       "    </tr>\n",
       "  </thead>\n",
       "  <tbody>\n",
       "    <tr>\n",
       "      <th>0</th>\n",
       "      <td>وزير الخارجية اللبناني جبران باسيل قال في سلسل...</td>\n",
       "      <td>Religious affiliation</td>\n",
       "      <td>وزير الخارجية اللبناني جبران باسيل قال سلسلة ت...</td>\n",
       "    </tr>\n",
       "    <tr>\n",
       "      <th>1</th>\n",
       "      <td>سورية بلد الحضارات تربطها بعلية او بحيوان</td>\n",
       "      <td>Violent</td>\n",
       "      <td>سورية بلد الحضارات تربطها بعلية او بحيوان</td>\n",
       "    </tr>\n",
       "    <tr>\n",
       "      <th>2</th>\n",
       "      <td>تقتلون وسام الحسن وتترحموعلية من أي أصناف المخ...</td>\n",
       "      <td>Racist</td>\n",
       "      <td>تقتلون وسام الحسن وتترحموعلية أصناف المخلوقات</td>\n",
       "    </tr>\n",
       "    <tr>\n",
       "      <th>3</th>\n",
       "      <td>معك خبر انو بلدة قطر متل ما سميتا مساحتها اكبر...</td>\n",
       "      <td>Normal</td>\n",
       "      <td>معك خبر انو بلدة قطر متل سميتا مساحتها اكبر لب...</td>\n",
       "    </tr>\n",
       "    <tr>\n",
       "      <th>4</th>\n",
       "      <td>للامانه قوت الموسم اللي طاف كان هوا بس متحمس ح...</td>\n",
       "      <td>Normal</td>\n",
       "      <td>للامانه قوت الموسم اللي طاف هوا متحمس حق الجاي...</td>\n",
       "    </tr>\n",
       "    <tr>\n",
       "      <th>...</th>\n",
       "      <td>...</td>\n",
       "      <td>...</td>\n",
       "      <td>...</td>\n",
       "    </tr>\n",
       "    <tr>\n",
       "      <th>70</th>\n",
       "      <td>ولك خلص بقى، خلص والله ارحم حالك، هيدي الصفات ...</td>\n",
       "      <td>Violent</td>\n",
       "      <td>ولك خلص بقى، خلص والله ارحم حالك، هيدي الصفات ...</td>\n",
       "    </tr>\n",
       "    <tr>\n",
       "      <th>71</th>\n",
       "      <td>زمن الاوغاد</td>\n",
       "      <td>Mockery</td>\n",
       "      <td>زمن الاوغاد</td>\n",
       "    </tr>\n",
       "    <tr>\n",
       "      <th>72</th>\n",
       "      <td>ما أوطاك</td>\n",
       "      <td>Mockery</td>\n",
       "      <td>أوطاك</td>\n",
       "    </tr>\n",
       "    <tr>\n",
       "      <th>73</th>\n",
       "      <td>خليت صرمايته لكم ياتسلاب ايران</td>\n",
       "      <td>Violent</td>\n",
       "      <td>خليت صرمايته ياتسلاب ايران</td>\n",
       "    </tr>\n",
       "    <tr>\n",
       "      <th>74</th>\n",
       "      <td>انتي مسخرة بشرفي</td>\n",
       "      <td>Mockery</td>\n",
       "      <td>انتي مسخرة بشرفي</td>\n",
       "    </tr>\n",
       "  </tbody>\n",
       "</table>\n",
       "<p>75 rows × 3 columns</p>\n",
       "</div>"
      ],
      "text/plain": [
       "                                          description    answer_category_num  \\\n",
       "0   وزير الخارجية اللبناني جبران باسيل قال في سلسل...  Religious affiliation   \n",
       "1           سورية بلد الحضارات تربطها بعلية او بحيوان                Violent   \n",
       "2   تقتلون وسام الحسن وتترحموعلية من أي أصناف المخ...                 Racist   \n",
       "3   معك خبر انو بلدة قطر متل ما سميتا مساحتها اكبر...                 Normal   \n",
       "4   للامانه قوت الموسم اللي طاف كان هوا بس متحمس ح...                 Normal   \n",
       "..                                                ...                    ...   \n",
       "70  ولك خلص بقى، خلص والله ارحم حالك، هيدي الصفات ...                Violent   \n",
       "71                                        زمن الاوغاد                Mockery   \n",
       "72                                           ما أوطاك                Mockery   \n",
       "73                     خليت صرمايته لكم ياتسلاب ايران                Violent   \n",
       "74                                   انتي مسخرة بشرفي                Mockery   \n",
       "\n",
       "                                   tweet_no_stopwords  \n",
       "0   وزير الخارجية اللبناني جبران باسيل قال سلسلة ت...  \n",
       "1           سورية بلد الحضارات تربطها بعلية او بحيوان  \n",
       "2       تقتلون وسام الحسن وتترحموعلية أصناف المخلوقات  \n",
       "3   معك خبر انو بلدة قطر متل سميتا مساحتها اكبر لب...  \n",
       "4   للامانه قوت الموسم اللي طاف هوا متحمس حق الجاي...  \n",
       "..                                                ...  \n",
       "70  ولك خلص بقى، خلص والله ارحم حالك، هيدي الصفات ...  \n",
       "71                                        زمن الاوغاد  \n",
       "72                                              أوطاك  \n",
       "73                         خليت صرمايته ياتسلاب ايران  \n",
       "74                                   انتي مسخرة بشرفي  \n",
       "\n",
       "[75 rows x 3 columns]"
      ]
     },
     "execution_count": 16,
     "metadata": {},
     "output_type": "execute_result"
    }
   ],
   "source": [
    "clean_data"
   ]
  },
  {
   "cell_type": "markdown",
   "id": "e9d9151c",
   "metadata": {},
   "source": [
    "# Training the Model"
   ]
  },
  {
   "cell_type": "code",
   "execution_count": 17,
   "id": "ac1b265a",
   "metadata": {},
   "outputs": [],
   "source": [
    "# y is Class which is dependent on X Tweet\n",
    "X = clean_data['tweet_no_stopwords']\n",
    "y = clean_data['answer_category_num']\n",
    "X_train, X_test, y_train, y_test = train_test_split(X, y, test_size=0.1)"
   ]
  },
  {
   "cell_type": "code",
   "execution_count": 18,
   "id": "3a0c673f",
   "metadata": {
    "scrolled": true
   },
   "outputs": [
    {
     "data": {
      "text/plain": [
       "Normal                   21\n",
       "Violent                  18\n",
       "Mockery                  16\n",
       "Religious affiliation     6\n",
       "Racist                    6\n",
       "Name: answer_category_num, dtype: int64"
      ]
     },
     "execution_count": 18,
     "metadata": {},
     "output_type": "execute_result"
    }
   ],
   "source": [
    "y_train.value_counts()"
   ]
  },
  {
   "cell_type": "code",
   "execution_count": 19,
   "id": "b659f8d3",
   "metadata": {},
   "outputs": [
    {
     "data": {
      "text/plain": [
       "Mockery                  5\n",
       "Religious affiliation    1\n",
       "Racist                   1\n",
       "Violent                  1\n",
       "Name: answer_category_num, dtype: int64"
      ]
     },
     "execution_count": 19,
     "metadata": {},
     "output_type": "execute_result"
    }
   ],
   "source": [
    "y_test.value_counts()"
   ]
  },
  {
   "cell_type": "code",
   "execution_count": 20,
   "id": "011b6c03",
   "metadata": {},
   "outputs": [
    {
     "data": {
      "text/plain": [
       "(67, 492)"
      ]
     },
     "execution_count": 20,
     "metadata": {},
     "output_type": "execute_result"
    }
   ],
   "source": [
    "# Using tf-idf \n",
    "vectorizer = TfidfVectorizer()\n",
    "\n",
    "X_train_tfidf = vectorizer.fit_transform(X_train)\n",
    "X_train_tfidf.shape"
   ]
  },
  {
   "cell_type": "code",
   "execution_count": 21,
   "id": "0d520b58",
   "metadata": {},
   "outputs": [],
   "source": [
    "# Using pipiles for machine learning flow\n",
    "\n",
    "text_clf = Pipeline([('tfidf', TfidfVectorizer()),\n",
    "                     ('clf', LinearSVC()),])\n",
    "\n",
    "\n",
    "text_clf.fit(X_train, y_train)  \n",
    "\n",
    "\n",
    "predictions = text_clf.predict(X_test)"
   ]
  },
  {
   "cell_type": "code",
   "execution_count": 22,
   "id": "59ca3afd",
   "metadata": {},
   "outputs": [
    {
     "name": "stdout",
     "output_type": "stream",
     "text": [
      "[[2 2 0 0 1]\n",
      " [0 0 0 0 0]\n",
      " [0 0 0 0 1]\n",
      " [0 1 0 0 0]\n",
      " [0 1 0 0 0]]\n"
     ]
    }
   ],
   "source": [
    "# Confusion Matrix\n",
    "from sklearn import metrics\n",
    "print(metrics.confusion_matrix(y_test,predictions))"
   ]
  },
  {
   "cell_type": "code",
   "execution_count": 23,
   "id": "18b3ba8c",
   "metadata": {
    "scrolled": true
   },
   "outputs": [
    {
     "name": "stdout",
     "output_type": "stream",
     "text": [
      "                       precision    recall  f1-score   support\n",
      "\n",
      "              Mockery       1.00      0.40      0.57         5\n",
      "               Normal       0.00      0.00      0.00         0\n",
      "               Racist       0.00      0.00      0.00         1\n",
      "Religious affiliation       0.00      0.00      0.00         1\n",
      "              Violent       0.00      0.00      0.00         1\n",
      "\n",
      "             accuracy                           0.25         8\n",
      "            macro avg       0.20      0.08      0.11         8\n",
      "         weighted avg       0.62      0.25      0.36         8\n",
      "\n"
     ]
    },
    {
     "name": "stderr",
     "output_type": "stream",
     "text": [
      "c:\\Users\\user\\AppData\\Local\\Programs\\Python\\Python310\\lib\\site-packages\\sklearn\\metrics\\_classification.py:1334: UndefinedMetricWarning: Precision and F-score are ill-defined and being set to 0.0 in labels with no predicted samples. Use `zero_division` parameter to control this behavior.\n",
      "  _warn_prf(average, modifier, msg_start, len(result))\n",
      "c:\\Users\\user\\AppData\\Local\\Programs\\Python\\Python310\\lib\\site-packages\\sklearn\\metrics\\_classification.py:1334: UndefinedMetricWarning: Recall and F-score are ill-defined and being set to 0.0 in labels with no true samples. Use `zero_division` parameter to control this behavior.\n",
      "  _warn_prf(average, modifier, msg_start, len(result))\n",
      "c:\\Users\\user\\AppData\\Local\\Programs\\Python\\Python310\\lib\\site-packages\\sklearn\\metrics\\_classification.py:1334: UndefinedMetricWarning: Precision and F-score are ill-defined and being set to 0.0 in labels with no predicted samples. Use `zero_division` parameter to control this behavior.\n",
      "  _warn_prf(average, modifier, msg_start, len(result))\n",
      "c:\\Users\\user\\AppData\\Local\\Programs\\Python\\Python310\\lib\\site-packages\\sklearn\\metrics\\_classification.py:1334: UndefinedMetricWarning: Recall and F-score are ill-defined and being set to 0.0 in labels with no true samples. Use `zero_division` parameter to control this behavior.\n",
      "  _warn_prf(average, modifier, msg_start, len(result))\n",
      "c:\\Users\\user\\AppData\\Local\\Programs\\Python\\Python310\\lib\\site-packages\\sklearn\\metrics\\_classification.py:1334: UndefinedMetricWarning: Precision and F-score are ill-defined and being set to 0.0 in labels with no predicted samples. Use `zero_division` parameter to control this behavior.\n",
      "  _warn_prf(average, modifier, msg_start, len(result))\n",
      "c:\\Users\\user\\AppData\\Local\\Programs\\Python\\Python310\\lib\\site-packages\\sklearn\\metrics\\_classification.py:1334: UndefinedMetricWarning: Recall and F-score are ill-defined and being set to 0.0 in labels with no true samples. Use `zero_division` parameter to control this behavior.\n",
      "  _warn_prf(average, modifier, msg_start, len(result))\n"
     ]
    }
   ],
   "source": [
    "# Classification report\n",
    "print(metrics.classification_report(y_test,predictions)) "
   ]
  },
  {
   "cell_type": "code",
   "execution_count": 24,
   "id": "567088cc",
   "metadata": {},
   "outputs": [
    {
     "name": "stdout",
     "output_type": "stream",
     "text": [
      "0.25\n"
     ]
    }
   ],
   "source": [
    "# Accuracy\n",
    "print(metrics.accuracy_score(y_test,predictions))"
   ]
  },
  {
   "cell_type": "code",
   "execution_count": 25,
   "id": "59322cf0",
   "metadata": {},
   "outputs": [],
   "source": [
    "tst =  \"انت  واحد حقير وما بتستحي ا\""
   ]
  },
  {
   "cell_type": "code",
   "execution_count": 26,
   "id": "ca08372e",
   "metadata": {},
   "outputs": [
    {
     "data": {
      "text/plain": [
       "'Mockery'"
      ]
     },
     "execution_count": 26,
     "metadata": {},
     "output_type": "execute_result"
    }
   ],
   "source": [
    "text_clf.predict([tst])[0]"
   ]
  },
  {
   "cell_type": "code",
   "execution_count": 27,
   "id": "f4528ff6",
   "metadata": {},
   "outputs": [
    {
     "name": "stdout",
     "output_type": "stream",
     "text": [
      "0\n",
      "Tweet: العمى شو تشتوش\n",
      "Real Prediction: Mockery ||  Model Prediction: Violent\n",
      "1\n",
      "Tweet: كبير ماعم نشوفك عم تجيب سيرة السعودية والامارات\n",
      "Real Prediction: Mockery ||  Model Prediction: Normal\n",
      "2\n",
      "Tweet: انتي مسخرة بشرفي\n",
      "Real Prediction: Mockery ||  Model Prediction: Mockery\n",
      "3\n",
      "Tweet: وئام وهاب كلب يحركة رائحة الدسم المال لاعقيدة ولاعروبه وابعد مايكون الرجوله والشرف\n",
      "Real Prediction: Mockery ||  Model Prediction: Mockery\n",
      "4\n",
      "Tweet: وزير الخارجية اللبناني جبران باسيل قال سلسلة تغريداته عقب اختتام القمة العربية التنموية الاقتصادية والاجتماعية لمسنا تج…\n",
      "Real Prediction: Religious affiliation ||  Model Prediction: Normal\n",
      "5\n",
      "Tweet: كلام سليم صلاة الجمعه يدعون حكام الخليج والخليج دافع مليارات عشات قضيتهم\n",
      "Real Prediction: Racist ||  Model Prediction: Violent\n",
      "6\n",
      "Tweet: اعتقد ان مارسيل غانم حيوان\n",
      "Real Prediction: Mockery ||  Model Prediction: Normal\n",
      "7\n",
      "Tweet: الخبثاء والخنازير حلو يحل بارضهم الخراب\n",
      "Real Prediction: Violent ||  Model Prediction: Normal\n"
     ]
    }
   ],
   "source": [
    "for count, test_tweet in enumerate(X_test):\n",
    "    print(count)\n",
    "    print(\"Tweet: {}\".format(test_tweet))\n",
    "    print(\"Real Prediction: {} ||  Model Prediction: {}\".format(y_test.values[count], predictions[count]))"
   ]
  },
  {
   "cell_type": "code",
   "execution_count": null,
   "id": "9f297d49",
   "metadata": {},
   "outputs": [],
   "source": []
  },
  {
   "cell_type": "markdown",
   "id": "ed5264e8",
   "metadata": {},
   "source": [
    "# Saving the Model"
   ]
  },
  {
   "cell_type": "code",
   "execution_count": 27,
   "id": "debe85af",
   "metadata": {},
   "outputs": [],
   "source": [
    "import pickle\n",
    "# save the model to disk\n",
    "filename = 'finalized_model_SVC.sav'\n",
    "pickle.dump(text_clf, open(filename, 'wb'))"
   ]
  },
  {
   "cell_type": "code",
   "execution_count": 74,
   "id": "14961a8f",
   "metadata": {},
   "outputs": [
    {
     "name": "stdout",
     "output_type": "stream",
     "text": [
      "0.8393162393162393\n"
     ]
    }
   ],
   "source": [
    "# some time later...\n",
    " \n",
    "# load the model from disk\n",
    "loaded_model = pickle.load(open(filename, 'rb'))\n",
    "result = loaded_model.score(X_test, y_test)\n",
    "print(result)"
   ]
  }
 ],
 "metadata": {
  "kernelspec": {
   "display_name": "Python 3.10.4 64-bit",
   "language": "python",
   "name": "python3"
  },
  "language_info": {
   "codemirror_mode": {
    "name": "ipython",
    "version": 3
   },
   "file_extension": ".py",
   "mimetype": "text/x-python",
   "name": "python",
   "nbconvert_exporter": "python",
   "pygments_lexer": "ipython3",
   "version": "3.10.4"
  },
  "vscode": {
   "interpreter": {
    "hash": "fb4569285eef3a3450cb62085a5b1e0da4bce0af555edc33dcf29baf3acc1368"
   }
  }
 },
 "nbformat": 4,
 "nbformat_minor": 5
}
