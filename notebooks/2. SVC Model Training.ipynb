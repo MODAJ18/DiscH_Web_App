{
 "cells": [
  {
   "cell_type": "markdown",
   "id": "e507a7e4",
   "metadata": {},
   "source": [
    "# Import Libraries"
   ]
  },
  {
   "cell_type": "code",
   "execution_count": 1,
   "id": "506a4917",
   "metadata": {},
   "outputs": [],
   "source": [
    "import numpy as np\n",
    "import pandas as pd\n",
    "from sklearn.model_selection import train_test_split\n",
    "from nltk.corpus import stopwords \n",
    "from nltk.tokenize import word_tokenize \n",
    "from sklearn.feature_extraction.text import TfidfVectorizer\n",
    "from sklearn.svm import LinearSVC\n",
    "from sklearn.pipeline import Pipeline"
   ]
  },
  {
   "cell_type": "code",
   "execution_count": 2,
   "id": "441b4b07",
   "metadata": {},
   "outputs": [],
   "source": [
    "# Reading the data\n",
    "data = pd.read_excel('../data/responses_data.xlsx')"
   ]
  },
  {
   "cell_type": "code",
   "execution_count": 3,
   "id": "18e779d5",
   "metadata": {},
   "outputs": [
    {
     "data": {
      "text/html": [
       "<div>\n",
       "<style scoped>\n",
       "    .dataframe tbody tr th:only-of-type {\n",
       "        vertical-align: middle;\n",
       "    }\n",
       "\n",
       "    .dataframe tbody tr th {\n",
       "        vertical-align: top;\n",
       "    }\n",
       "\n",
       "    .dataframe thead th {\n",
       "        text-align: right;\n",
       "    }\n",
       "</style>\n",
       "<table border=\"1\" class=\"dataframe\">\n",
       "  <thead>\n",
       "    <tr style=\"text-align: right;\">\n",
       "      <th></th>\n",
       "      <th>question_id</th>\n",
       "      <th>description</th>\n",
       "      <th>num_response</th>\n",
       "      <th>label_in_question</th>\n",
       "      <th>answer_id</th>\n",
       "      <th>answer_category_num</th>\n",
       "      <th>answer_justification</th>\n",
       "      <th>answer_upvote</th>\n",
       "      <th>account_id_id</th>\n",
       "      <th>question_id_id</th>\n",
       "      <th>date</th>\n",
       "    </tr>\n",
       "  </thead>\n",
       "  <tbody>\n",
       "    <tr>\n",
       "      <th>0</th>\n",
       "      <td>4</td>\n",
       "      <td>ما فيك تعيش بلا ما تكب فتن ليل نهار وبكرة قلهم...</td>\n",
       "      <td>0</td>\n",
       "      <td>normal</td>\n",
       "      <td>147</td>\n",
       "      <td>Normal</td>\n",
       "      <td>none were given</td>\n",
       "      <td>0</td>\n",
       "      <td>52</td>\n",
       "      <td>4</td>\n",
       "      <td>2022-12-03</td>\n",
       "    </tr>\n",
       "    <tr>\n",
       "      <th>1</th>\n",
       "      <td>37</td>\n",
       "      <td>ههههههه داعشي طنط كول هوا ولاك حريمه</td>\n",
       "      <td>0</td>\n",
       "      <td>hate</td>\n",
       "      <td>326</td>\n",
       "      <td>Mockery</td>\n",
       "      <td>none were given</td>\n",
       "      <td>0</td>\n",
       "      <td>45</td>\n",
       "      <td>37</td>\n",
       "      <td>2022-12-19</td>\n",
       "    </tr>\n",
       "    <tr>\n",
       "      <th>2</th>\n",
       "      <td>47</td>\n",
       "      <td>هؤلاء الخبثاء والخنازير أينما حلو يحل بارضهم ا...</td>\n",
       "      <td>0</td>\n",
       "      <td>hate</td>\n",
       "      <td>76</td>\n",
       "      <td>Violent</td>\n",
       "      <td>none were given</td>\n",
       "      <td>0</td>\n",
       "      <td>8</td>\n",
       "      <td>47</td>\n",
       "      <td>2022-11-19</td>\n",
       "    </tr>\n",
       "    <tr>\n",
       "      <th>3</th>\n",
       "      <td>2</td>\n",
       "      <td>سورية بلد الحضارات تربطها بعلية او بحيوان</td>\n",
       "      <td>2</td>\n",
       "      <td>normal</td>\n",
       "      <td>11</td>\n",
       "      <td>Racist</td>\n",
       "      <td>none were given</td>\n",
       "      <td>0</td>\n",
       "      <td>1</td>\n",
       "      <td>2</td>\n",
       "      <td>2022-09-09</td>\n",
       "    </tr>\n",
       "    <tr>\n",
       "      <th>4</th>\n",
       "      <td>2</td>\n",
       "      <td>سورية بلد الحضارات تربطها بعلية او بحيوان</td>\n",
       "      <td>2</td>\n",
       "      <td>normal</td>\n",
       "      <td>17</td>\n",
       "      <td>Normal</td>\n",
       "      <td>none were given</td>\n",
       "      <td>0</td>\n",
       "      <td>7</td>\n",
       "      <td>2</td>\n",
       "      <td>2022-09-19</td>\n",
       "    </tr>\n",
       "  </tbody>\n",
       "</table>\n",
       "</div>"
      ],
      "text/plain": [
       "   question_id                                        description  \\\n",
       "0            4  ما فيك تعيش بلا ما تكب فتن ليل نهار وبكرة قلهم...   \n",
       "1           37               ههههههه داعشي طنط كول هوا ولاك حريمه   \n",
       "2           47  هؤلاء الخبثاء والخنازير أينما حلو يحل بارضهم ا...   \n",
       "3            2          سورية بلد الحضارات تربطها بعلية او بحيوان   \n",
       "4            2          سورية بلد الحضارات تربطها بعلية او بحيوان   \n",
       "\n",
       "   num_response label_in_question  answer_id answer_category_num  \\\n",
       "0             0            normal        147              Normal   \n",
       "1             0              hate        326             Mockery   \n",
       "2             0              hate         76             Violent   \n",
       "3             2            normal         11              Racist   \n",
       "4             2            normal         17              Normal   \n",
       "\n",
       "  answer_justification  answer_upvote  account_id_id  question_id_id  \\\n",
       "0      none were given              0             52               4   \n",
       "1      none were given              0             45              37   \n",
       "2      none were given              0              8              47   \n",
       "3      none were given              0              1               2   \n",
       "4      none were given              0              7               2   \n",
       "\n",
       "        date  \n",
       "0 2022-12-03  \n",
       "1 2022-12-19  \n",
       "2 2022-11-19  \n",
       "3 2022-09-09  \n",
       "4 2022-09-19  "
      ]
     },
     "execution_count": 3,
     "metadata": {},
     "output_type": "execute_result"
    }
   ],
   "source": [
    "# Checking the head of the data\n",
    "data.head()"
   ]
  },
  {
   "cell_type": "code",
   "execution_count": 4,
   "id": "1c5a86be",
   "metadata": {},
   "outputs": [
    {
     "data": {
      "text/plain": [
       "(500, 11)"
      ]
     },
     "execution_count": 4,
     "metadata": {},
     "output_type": "execute_result"
    }
   ],
   "source": [
    "data.shape"
   ]
  },
  {
   "cell_type": "code",
   "execution_count": 5,
   "id": "185fb21c",
   "metadata": {},
   "outputs": [],
   "source": [
    "data.description = data.description.apply(str.strip)"
   ]
  },
  {
   "cell_type": "code",
   "execution_count": 6,
   "id": "6c142ebd",
   "metadata": {},
   "outputs": [
    {
     "data": {
      "text/plain": [
       "(500, 11)"
      ]
     },
     "execution_count": 6,
     "metadata": {},
     "output_type": "execute_result"
    }
   ],
   "source": [
    "# The shape of the data\n",
    "data.shape"
   ]
  },
  {
   "cell_type": "code",
   "execution_count": 7,
   "id": "aff168fe",
   "metadata": {},
   "outputs": [
    {
     "data": {
      "text/plain": [
       "Index(['question_id', 'description', 'num_response', 'label_in_question',\n",
       "       'answer_id', 'answer_category_num', 'answer_justification',\n",
       "       'answer_upvote', 'account_id_id', 'question_id_id', 'date'],\n",
       "      dtype='object')"
      ]
     },
     "execution_count": 7,
     "metadata": {},
     "output_type": "execute_result"
    }
   ],
   "source": [
    "# The columns of the data\n",
    "data.columns"
   ]
  },
  {
   "cell_type": "code",
   "execution_count": 8,
   "id": "2d1381a5",
   "metadata": {},
   "outputs": [
    {
     "name": "stdout",
     "output_type": "stream",
     "text": [
      "26\n"
     ]
    }
   ],
   "source": [
    "# checking how many comments are repeated\n",
    "i = 0\n",
    "for comment in data.description.unique():\n",
    "    temp_df = data[data.description == comment]\n",
    "    if temp_df.shape[0] >= 2:\n",
    "        \n",
    "        i+=1\n",
    "print(i)"
   ]
  },
  {
   "cell_type": "code",
   "execution_count": 9,
   "id": "9f6a6f74",
   "metadata": {},
   "outputs": [
    {
     "data": {
      "text/html": [
       "<div>\n",
       "<style scoped>\n",
       "    .dataframe tbody tr th:only-of-type {\n",
       "        vertical-align: middle;\n",
       "    }\n",
       "\n",
       "    .dataframe tbody tr th {\n",
       "        vertical-align: top;\n",
       "    }\n",
       "\n",
       "    .dataframe thead th {\n",
       "        text-align: right;\n",
       "    }\n",
       "</style>\n",
       "<table border=\"1\" class=\"dataframe\">\n",
       "  <thead>\n",
       "    <tr style=\"text-align: right;\">\n",
       "      <th></th>\n",
       "      <th>description</th>\n",
       "      <th>answer_category_num</th>\n",
       "    </tr>\n",
       "  </thead>\n",
       "  <tbody>\n",
       "    <tr>\n",
       "      <th>0</th>\n",
       "      <td>ما فيك تعيش بلا ما تكب فتن ليل نهار وبكرة قلهم...</td>\n",
       "      <td>Normal</td>\n",
       "    </tr>\n",
       "    <tr>\n",
       "      <th>1</th>\n",
       "      <td>ههههههه داعشي طنط كول هوا ولاك حريمه</td>\n",
       "      <td>Mockery</td>\n",
       "    </tr>\n",
       "  </tbody>\n",
       "</table>\n",
       "</div>"
      ],
      "text/plain": [
       "                                         description answer_category_num\n",
       "0  ما فيك تعيش بلا ما تكب فتن ليل نهار وبكرة قلهم...              Normal\n",
       "1               ههههههه داعشي طنط كول هوا ولاك حريمه             Mockery"
      ]
     },
     "execution_count": 9,
     "metadata": {},
     "output_type": "execute_result"
    }
   ],
   "source": [
    "clean_data = data.copy()\n",
    "clean_data  = clean_data[['description', 'answer_category_num']]\n",
    "clean_data.head(2)"
   ]
  },
  {
   "cell_type": "code",
   "execution_count": 10,
   "id": "877895d8",
   "metadata": {},
   "outputs": [
    {
     "data": {
      "text/plain": [
       "وزير الخارجية اللبناني جبران باسيل قال في سلسلة تغريداته عقب اختتام القمة العربية التنموية الاقتصادية والاجتماعية لمسنا تج…    7\n",
       "سورية بلد الحضارات تربطها بعلية او بحيوان                                                                                      6\n",
       "لما العاهرة تاضر بالعفة                                                                                                        4\n",
       "انت بدك طبيب نفسي                                                                                                              2\n",
       "احلى تحية للجزائر وشعبها                                                                                                       2\n",
       "                                                                                                                              ..\n",
       "موفقين ونحن معكم وسنقرا لكم                                                                                                    1\n",
       "إستحوا بقى                                                                                                                     1\n",
       "معراب خانت لبنان معراب الخائنة معراب السفاهة معراب التقلب معراب الدم معراب العمالة معراب الشر معراب الوكر معراب العداء         1\n",
       "انو عم تتعاطى خرا بكوكائين ولَك مين انتي ومين شايفك من ارضك قال وفد قال ودخلك الوفد بالستيانات باعتو                           1\n",
       "الزعامة والتجربة بدن يكونوا اصحابها رجال مش صيصان خسئت يا جبران باسيل                                                          1\n",
       "Name: description, Length: 463, dtype: int64"
      ]
     },
     "execution_count": 10,
     "metadata": {},
     "output_type": "execute_result"
    }
   ],
   "source": [
    "clean_data.description.value_counts()"
   ]
  },
  {
   "cell_type": "code",
   "execution_count": 11,
   "id": "cbcc835d",
   "metadata": {},
   "outputs": [],
   "source": [
    "# removing duplicated descrptions/ comments\n",
    "clean_data.drop_duplicates(subset='description', inplace=True)\n",
    "clean_data.reset_index(drop=True, inplace=True)"
   ]
  },
  {
   "cell_type": "code",
   "execution_count": 12,
   "id": "f6fe61fc",
   "metadata": {},
   "outputs": [
    {
     "data": {
      "text/html": [
       "<div>\n",
       "<style scoped>\n",
       "    .dataframe tbody tr th:only-of-type {\n",
       "        vertical-align: middle;\n",
       "    }\n",
       "\n",
       "    .dataframe tbody tr th {\n",
       "        vertical-align: top;\n",
       "    }\n",
       "\n",
       "    .dataframe thead th {\n",
       "        text-align: right;\n",
       "    }\n",
       "</style>\n",
       "<table border=\"1\" class=\"dataframe\">\n",
       "  <thead>\n",
       "    <tr style=\"text-align: right;\">\n",
       "      <th></th>\n",
       "      <th>description</th>\n",
       "      <th>answer_category_num</th>\n",
       "    </tr>\n",
       "  </thead>\n",
       "  <tbody>\n",
       "    <tr>\n",
       "      <th>0</th>\n",
       "      <td>ما فيك تعيش بلا ما تكب فتن ليل نهار وبكرة قلهم...</td>\n",
       "      <td>Normal</td>\n",
       "    </tr>\n",
       "    <tr>\n",
       "      <th>1</th>\n",
       "      <td>ههههههه داعشي طنط كول هوا ولاك حريمه</td>\n",
       "      <td>Mockery</td>\n",
       "    </tr>\n",
       "    <tr>\n",
       "      <th>2</th>\n",
       "      <td>هؤلاء الخبثاء والخنازير أينما حلو يحل بارضهم ا...</td>\n",
       "      <td>Violent</td>\n",
       "    </tr>\n",
       "    <tr>\n",
       "      <th>3</th>\n",
       "      <td>سورية بلد الحضارات تربطها بعلية او بحيوان</td>\n",
       "      <td>Racist</td>\n",
       "    </tr>\n",
       "    <tr>\n",
       "      <th>4</th>\n",
       "      <td>سكربينة عنصرية حقها فرنك فوتي حسابها و شوفي؛بس...</td>\n",
       "      <td>Mockery</td>\n",
       "    </tr>\n",
       "    <tr>\n",
       "      <th>...</th>\n",
       "      <td>...</td>\n",
       "      <td>...</td>\n",
       "    </tr>\n",
       "    <tr>\n",
       "      <th>458</th>\n",
       "      <td>هلا غزة الوحيدة بكل فلسطين هي الحرة... لهيك بص...</td>\n",
       "      <td>Violent</td>\n",
       "    </tr>\n",
       "    <tr>\n",
       "      <th>459</th>\n",
       "      <td>آآآخ على القهر ودنائة حكام العرب واقفلهم كلاب ...</td>\n",
       "      <td>Violent</td>\n",
       "    </tr>\n",
       "    <tr>\n",
       "      <th>460</th>\n",
       "      <td>عندما يأتي اليوم يحترم اللبنانيين بعضهم البعضو...</td>\n",
       "      <td>Normal</td>\n",
       "    </tr>\n",
       "    <tr>\n",
       "      <th>461</th>\n",
       "      <td>نحتاج الى مسؤولين جدد يعملو على اعادة الوطن ال...</td>\n",
       "      <td>Normal</td>\n",
       "    </tr>\n",
       "    <tr>\n",
       "      <th>462</th>\n",
       "      <td>الزعامة والتجربة بدن يكونوا اصحابها رجال مش صي...</td>\n",
       "      <td>Violent</td>\n",
       "    </tr>\n",
       "  </tbody>\n",
       "</table>\n",
       "<p>463 rows × 2 columns</p>\n",
       "</div>"
      ],
      "text/plain": [
       "                                           description answer_category_num\n",
       "0    ما فيك تعيش بلا ما تكب فتن ليل نهار وبكرة قلهم...              Normal\n",
       "1                 ههههههه داعشي طنط كول هوا ولاك حريمه             Mockery\n",
       "2    هؤلاء الخبثاء والخنازير أينما حلو يحل بارضهم ا...             Violent\n",
       "3            سورية بلد الحضارات تربطها بعلية او بحيوان              Racist\n",
       "4    سكربينة عنصرية حقها فرنك فوتي حسابها و شوفي؛بس...             Mockery\n",
       "..                                                 ...                 ...\n",
       "458  هلا غزة الوحيدة بكل فلسطين هي الحرة... لهيك بص...             Violent\n",
       "459  آآآخ على القهر ودنائة حكام العرب واقفلهم كلاب ...             Violent\n",
       "460  عندما يأتي اليوم يحترم اللبنانيين بعضهم البعضو...              Normal\n",
       "461  نحتاج الى مسؤولين جدد يعملو على اعادة الوطن ال...              Normal\n",
       "462  الزعامة والتجربة بدن يكونوا اصحابها رجال مش صي...             Violent\n",
       "\n",
       "[463 rows x 2 columns]"
      ]
     },
     "execution_count": 12,
     "metadata": {},
     "output_type": "execute_result"
    }
   ],
   "source": [
    "clean_data"
   ]
  },
  {
   "cell_type": "code",
   "execution_count": 13,
   "id": "e1cd7148",
   "metadata": {},
   "outputs": [],
   "source": [
    "# checking how many comments have different votes\n",
    "for i, row in clean_data.iterrows():\n",
    "\n",
    "    comment = row.description\n",
    "\n",
    "    # getting the dataframe for that comment\n",
    "    temp_df = data[data.description == comment]\n",
    "    \n",
    "    # how many unique answers that comment has\n",
    "    n_ = temp_df.answer_category_num.nunique()\n",
    "\n",
    "    # changing the answer_category_num to the most frequent one\n",
    "    if n_ >= 2:\n",
    "        most_voted_label = temp_df.answer_category_num.value_counts().index[0]\n",
    "        clean_data.at[i, 'answer_category_num'] = most_voted_label"
   ]
  },
  {
   "cell_type": "code",
   "execution_count": 14,
   "id": "588fe077",
   "metadata": {},
   "outputs": [
    {
     "data": {
      "text/html": [
       "<div>\n",
       "<style scoped>\n",
       "    .dataframe tbody tr th:only-of-type {\n",
       "        vertical-align: middle;\n",
       "    }\n",
       "\n",
       "    .dataframe tbody tr th {\n",
       "        vertical-align: top;\n",
       "    }\n",
       "\n",
       "    .dataframe thead th {\n",
       "        text-align: right;\n",
       "    }\n",
       "</style>\n",
       "<table border=\"1\" class=\"dataframe\">\n",
       "  <thead>\n",
       "    <tr style=\"text-align: right;\">\n",
       "      <th></th>\n",
       "      <th>description</th>\n",
       "      <th>answer_category_num</th>\n",
       "    </tr>\n",
       "  </thead>\n",
       "  <tbody>\n",
       "    <tr>\n",
       "      <th>0</th>\n",
       "      <td>ما فيك تعيش بلا ما تكب فتن ليل نهار وبكرة قلهم...</td>\n",
       "      <td>Normal</td>\n",
       "    </tr>\n",
       "    <tr>\n",
       "      <th>1</th>\n",
       "      <td>ههههههه داعشي طنط كول هوا ولاك حريمه</td>\n",
       "      <td>Mockery</td>\n",
       "    </tr>\n",
       "    <tr>\n",
       "      <th>2</th>\n",
       "      <td>هؤلاء الخبثاء والخنازير أينما حلو يحل بارضهم ا...</td>\n",
       "      <td>Violent</td>\n",
       "    </tr>\n",
       "    <tr>\n",
       "      <th>3</th>\n",
       "      <td>سورية بلد الحضارات تربطها بعلية او بحيوان</td>\n",
       "      <td>Religious affiliation</td>\n",
       "    </tr>\n",
       "    <tr>\n",
       "      <th>4</th>\n",
       "      <td>سكربينة عنصرية حقها فرنك فوتي حسابها و شوفي؛بس...</td>\n",
       "      <td>Mockery</td>\n",
       "    </tr>\n",
       "    <tr>\n",
       "      <th>...</th>\n",
       "      <td>...</td>\n",
       "      <td>...</td>\n",
       "    </tr>\n",
       "    <tr>\n",
       "      <th>458</th>\n",
       "      <td>هلا غزة الوحيدة بكل فلسطين هي الحرة... لهيك بص...</td>\n",
       "      <td>Violent</td>\n",
       "    </tr>\n",
       "    <tr>\n",
       "      <th>459</th>\n",
       "      <td>آآآخ على القهر ودنائة حكام العرب واقفلهم كلاب ...</td>\n",
       "      <td>Violent</td>\n",
       "    </tr>\n",
       "    <tr>\n",
       "      <th>460</th>\n",
       "      <td>عندما يأتي اليوم يحترم اللبنانيين بعضهم البعضو...</td>\n",
       "      <td>Normal</td>\n",
       "    </tr>\n",
       "    <tr>\n",
       "      <th>461</th>\n",
       "      <td>نحتاج الى مسؤولين جدد يعملو على اعادة الوطن ال...</td>\n",
       "      <td>Normal</td>\n",
       "    </tr>\n",
       "    <tr>\n",
       "      <th>462</th>\n",
       "      <td>الزعامة والتجربة بدن يكونوا اصحابها رجال مش صي...</td>\n",
       "      <td>Violent</td>\n",
       "    </tr>\n",
       "  </tbody>\n",
       "</table>\n",
       "<p>463 rows × 2 columns</p>\n",
       "</div>"
      ],
      "text/plain": [
       "                                           description    answer_category_num\n",
       "0    ما فيك تعيش بلا ما تكب فتن ليل نهار وبكرة قلهم...                 Normal\n",
       "1                 ههههههه داعشي طنط كول هوا ولاك حريمه                Mockery\n",
       "2    هؤلاء الخبثاء والخنازير أينما حلو يحل بارضهم ا...                Violent\n",
       "3            سورية بلد الحضارات تربطها بعلية او بحيوان  Religious affiliation\n",
       "4    سكربينة عنصرية حقها فرنك فوتي حسابها و شوفي؛بس...                Mockery\n",
       "..                                                 ...                    ...\n",
       "458  هلا غزة الوحيدة بكل فلسطين هي الحرة... لهيك بص...                Violent\n",
       "459  آآآخ على القهر ودنائة حكام العرب واقفلهم كلاب ...                Violent\n",
       "460  عندما يأتي اليوم يحترم اللبنانيين بعضهم البعضو...                 Normal\n",
       "461  نحتاج الى مسؤولين جدد يعملو على اعادة الوطن ال...                 Normal\n",
       "462  الزعامة والتجربة بدن يكونوا اصحابها رجال مش صي...                Violent\n",
       "\n",
       "[463 rows x 2 columns]"
      ]
     },
     "execution_count": 14,
     "metadata": {},
     "output_type": "execute_result"
    }
   ],
   "source": [
    "clean_data"
   ]
  },
  {
   "cell_type": "code",
   "execution_count": 15,
   "id": "0796c3c1",
   "metadata": {},
   "outputs": [
    {
     "data": {
      "text/plain": [
       "Normal                   211\n",
       "Mockery                  124\n",
       "Violent                   71\n",
       "Racist                    34\n",
       "Religious affiliation     14\n",
       "Sexual harrasment          9\n",
       "Name: answer_category_num, dtype: int64"
      ]
     },
     "execution_count": 15,
     "metadata": {},
     "output_type": "execute_result"
    }
   ],
   "source": [
    "# Generated Class\n",
    "clean_data.answer_category_num.value_counts()"
   ]
  },
  {
   "cell_type": "code",
   "execution_count": 16,
   "id": "0d1fe02e",
   "metadata": {},
   "outputs": [
    {
     "name": "stdout",
     "output_type": "stream",
     "text": [
      "<class 'pandas.core.frame.DataFrame'>\n",
      "RangeIndex: 463 entries, 0 to 462\n",
      "Data columns (total 2 columns):\n",
      " #   Column               Non-Null Count  Dtype \n",
      "---  ------               --------------  ----- \n",
      " 0   description          463 non-null    object\n",
      " 1   answer_category_num  463 non-null    object\n",
      "dtypes: object(2)\n",
      "memory usage: 7.4+ KB\n"
     ]
    }
   ],
   "source": [
    "# Checking the info\n",
    "clean_data.info()"
   ]
  },
  {
   "cell_type": "markdown",
   "id": "439e9bd1",
   "metadata": {},
   "source": [
    "We can see that there is no missing values"
   ]
  },
  {
   "cell_type": "code",
   "execution_count": 17,
   "id": "d5e1e907",
   "metadata": {},
   "outputs": [],
   "source": [
    "# Removing stop words for each tweet\n",
    "clean_data['tweet_no_stopwords'] = 'x'\n",
    "stop_words = set(stopwords.words('arabic')) \n",
    "for count, tweet in enumerate(clean_data.description):\n",
    "    word_tokens = word_tokenize(tweet)\n",
    "    filtered_tweet = []\n",
    "    for word in word_tokens:\n",
    "        if word not in stop_words:\n",
    "            filtered_tweet.append(word)\n",
    "    joined_filtered_tweet = \" \".join(filtered_tweet)\n",
    "    clean_data.tweet_no_stopwords[count] = joined_filtered_tweet"
   ]
  },
  {
   "cell_type": "code",
   "execution_count": 18,
   "id": "de3c7f9b",
   "metadata": {},
   "outputs": [
    {
     "data": {
      "text/html": [
       "<div>\n",
       "<style scoped>\n",
       "    .dataframe tbody tr th:only-of-type {\n",
       "        vertical-align: middle;\n",
       "    }\n",
       "\n",
       "    .dataframe tbody tr th {\n",
       "        vertical-align: top;\n",
       "    }\n",
       "\n",
       "    .dataframe thead th {\n",
       "        text-align: right;\n",
       "    }\n",
       "</style>\n",
       "<table border=\"1\" class=\"dataframe\">\n",
       "  <thead>\n",
       "    <tr style=\"text-align: right;\">\n",
       "      <th></th>\n",
       "      <th>description</th>\n",
       "      <th>answer_category_num</th>\n",
       "      <th>tweet_no_stopwords</th>\n",
       "    </tr>\n",
       "  </thead>\n",
       "  <tbody>\n",
       "    <tr>\n",
       "      <th>0</th>\n",
       "      <td>ما فيك تعيش بلا ما تكب فتن ليل نهار وبكرة قلهم...</td>\n",
       "      <td>Normal</td>\n",
       "      <td>فيك تعيش بلا تكب فتن ليل نهار وبكرة قلهم الموض...</td>\n",
       "    </tr>\n",
       "    <tr>\n",
       "      <th>1</th>\n",
       "      <td>ههههههه داعشي طنط كول هوا ولاك حريمه</td>\n",
       "      <td>Mockery</td>\n",
       "      <td>ههههههه داعشي طنط كول هوا ولاك حريمه</td>\n",
       "    </tr>\n",
       "    <tr>\n",
       "      <th>2</th>\n",
       "      <td>هؤلاء الخبثاء والخنازير أينما حلو يحل بارضهم ا...</td>\n",
       "      <td>Violent</td>\n",
       "      <td>الخبثاء والخنازير حلو يحل بارضهم الخراب</td>\n",
       "    </tr>\n",
       "    <tr>\n",
       "      <th>3</th>\n",
       "      <td>سورية بلد الحضارات تربطها بعلية او بحيوان</td>\n",
       "      <td>Religious affiliation</td>\n",
       "      <td>سورية بلد الحضارات تربطها بعلية او بحيوان</td>\n",
       "    </tr>\n",
       "    <tr>\n",
       "      <th>4</th>\n",
       "      <td>سكربينة عنصرية حقها فرنك فوتي حسابها و شوفي؛بس...</td>\n",
       "      <td>Mockery</td>\n",
       "      <td>سكربينة عنصرية حقها فرنك فوتي حسابها شوفي؛بس خ...</td>\n",
       "    </tr>\n",
       "    <tr>\n",
       "      <th>...</th>\n",
       "      <td>...</td>\n",
       "      <td>...</td>\n",
       "      <td>...</td>\n",
       "    </tr>\n",
       "    <tr>\n",
       "      <th>458</th>\n",
       "      <td>هلا غزة الوحيدة بكل فلسطين هي الحرة... لهيك بص...</td>\n",
       "      <td>Violent</td>\n",
       "      <td>غزة الوحيدة بكل فلسطين الحرة ... لهيك بصبو حقد...</td>\n",
       "    </tr>\n",
       "    <tr>\n",
       "      <th>459</th>\n",
       "      <td>آآآخ على القهر ودنائة حكام العرب واقفلهم كلاب ...</td>\n",
       "      <td>Violent</td>\n",
       "      <td>آآآخ القهر ودنائة حكام العرب واقفلهم كلاب مسلح...</td>\n",
       "    </tr>\n",
       "    <tr>\n",
       "      <th>460</th>\n",
       "      <td>عندما يأتي اليوم يحترم اللبنانيين بعضهم البعضو...</td>\n",
       "      <td>Normal</td>\n",
       "      <td>عندما يأتي اليوم يحترم اللبنانيين بعضهم البعضو...</td>\n",
       "    </tr>\n",
       "    <tr>\n",
       "      <th>461</th>\n",
       "      <td>نحتاج الى مسؤولين جدد يعملو على اعادة الوطن ال...</td>\n",
       "      <td>Normal</td>\n",
       "      <td>نحتاج الى مسؤولين جدد يعملو اعادة الوطن الى ال...</td>\n",
       "    </tr>\n",
       "    <tr>\n",
       "      <th>462</th>\n",
       "      <td>الزعامة والتجربة بدن يكونوا اصحابها رجال مش صي...</td>\n",
       "      <td>Violent</td>\n",
       "      <td>الزعامة والتجربة بدن يكونوا اصحابها رجال مش صي...</td>\n",
       "    </tr>\n",
       "  </tbody>\n",
       "</table>\n",
       "<p>463 rows × 3 columns</p>\n",
       "</div>"
      ],
      "text/plain": [
       "                                           description    answer_category_num  \\\n",
       "0    ما فيك تعيش بلا ما تكب فتن ليل نهار وبكرة قلهم...                 Normal   \n",
       "1                 ههههههه داعشي طنط كول هوا ولاك حريمه                Mockery   \n",
       "2    هؤلاء الخبثاء والخنازير أينما حلو يحل بارضهم ا...                Violent   \n",
       "3            سورية بلد الحضارات تربطها بعلية او بحيوان  Religious affiliation   \n",
       "4    سكربينة عنصرية حقها فرنك فوتي حسابها و شوفي؛بس...                Mockery   \n",
       "..                                                 ...                    ...   \n",
       "458  هلا غزة الوحيدة بكل فلسطين هي الحرة... لهيك بص...                Violent   \n",
       "459  آآآخ على القهر ودنائة حكام العرب واقفلهم كلاب ...                Violent   \n",
       "460  عندما يأتي اليوم يحترم اللبنانيين بعضهم البعضو...                 Normal   \n",
       "461  نحتاج الى مسؤولين جدد يعملو على اعادة الوطن ال...                 Normal   \n",
       "462  الزعامة والتجربة بدن يكونوا اصحابها رجال مش صي...                Violent   \n",
       "\n",
       "                                    tweet_no_stopwords  \n",
       "0    فيك تعيش بلا تكب فتن ليل نهار وبكرة قلهم الموض...  \n",
       "1                 ههههههه داعشي طنط كول هوا ولاك حريمه  \n",
       "2              الخبثاء والخنازير حلو يحل بارضهم الخراب  \n",
       "3            سورية بلد الحضارات تربطها بعلية او بحيوان  \n",
       "4    سكربينة عنصرية حقها فرنك فوتي حسابها شوفي؛بس خ...  \n",
       "..                                                 ...  \n",
       "458  غزة الوحيدة بكل فلسطين الحرة ... لهيك بصبو حقد...  \n",
       "459  آآآخ القهر ودنائة حكام العرب واقفلهم كلاب مسلح...  \n",
       "460  عندما يأتي اليوم يحترم اللبنانيين بعضهم البعضو...  \n",
       "461  نحتاج الى مسؤولين جدد يعملو اعادة الوطن الى ال...  \n",
       "462  الزعامة والتجربة بدن يكونوا اصحابها رجال مش صي...  \n",
       "\n",
       "[463 rows x 3 columns]"
      ]
     },
     "execution_count": 18,
     "metadata": {},
     "output_type": "execute_result"
    }
   ],
   "source": [
    "clean_data"
   ]
  },
  {
   "cell_type": "markdown",
   "id": "e9d9151c",
   "metadata": {},
   "source": [
    "# Training the Model"
   ]
  },
  {
   "cell_type": "code",
   "execution_count": 19,
   "id": "ac1b265a",
   "metadata": {},
   "outputs": [],
   "source": [
    "# y is Class which is dependent on X Tweet\n",
    "X = clean_data['tweet_no_stopwords']\n",
    "y = clean_data['answer_category_num']\n",
    "X_train, X_test, y_train, y_test = train_test_split(X, y, test_size=0.15)"
   ]
  },
  {
   "cell_type": "code",
   "execution_count": 20,
   "id": "3a0c673f",
   "metadata": {
    "scrolled": true
   },
   "outputs": [
    {
     "data": {
      "text/plain": [
       "Normal                   177\n",
       "Mockery                  101\n",
       "Violent                   66\n",
       "Racist                    29\n",
       "Religious affiliation     11\n",
       "Sexual harrasment          9\n",
       "Name: answer_category_num, dtype: int64"
      ]
     },
     "execution_count": 20,
     "metadata": {},
     "output_type": "execute_result"
    }
   ],
   "source": [
    "y_train.value_counts()"
   ]
  },
  {
   "cell_type": "code",
   "execution_count": 21,
   "id": "b659f8d3",
   "metadata": {},
   "outputs": [
    {
     "data": {
      "text/plain": [
       "Normal                   34\n",
       "Mockery                  23\n",
       "Racist                    5\n",
       "Violent                   5\n",
       "Religious affiliation     3\n",
       "Name: answer_category_num, dtype: int64"
      ]
     },
     "execution_count": 21,
     "metadata": {},
     "output_type": "execute_result"
    }
   ],
   "source": [
    "y_test.value_counts()"
   ]
  },
  {
   "cell_type": "code",
   "execution_count": 22,
   "id": "011b6c03",
   "metadata": {},
   "outputs": [
    {
     "data": {
      "text/plain": [
       "(393, 2094)"
      ]
     },
     "execution_count": 22,
     "metadata": {},
     "output_type": "execute_result"
    }
   ],
   "source": [
    "# Using tf-idf \n",
    "vectorizer = TfidfVectorizer()\n",
    "\n",
    "X_train_tfidf = vectorizer.fit_transform(X_train)\n",
    "X_train_tfidf.shape"
   ]
  },
  {
   "cell_type": "code",
   "execution_count": 23,
   "id": "0d520b58",
   "metadata": {},
   "outputs": [],
   "source": [
    "# Using pipiles for machine learning flow\n",
    "\n",
    "text_clf = Pipeline([('tfidf', TfidfVectorizer()),\n",
    "                     ('clf', LinearSVC()),])\n",
    "\n",
    "\n",
    "text_clf.fit(X_train, y_train)  \n",
    "\n",
    "\n",
    "predictions = text_clf.predict(X_test)"
   ]
  },
  {
   "cell_type": "code",
   "execution_count": 24,
   "id": "59ca3afd",
   "metadata": {},
   "outputs": [
    {
     "name": "stdout",
     "output_type": "stream",
     "text": [
      "[[ 5 11  2  0  5]\n",
      " [ 2 28  0  1  3]\n",
      " [ 0  2  0  0  3]\n",
      " [ 0  2  0  1  0]\n",
      " [ 1  2  0  0  2]]\n"
     ]
    }
   ],
   "source": [
    "# Confusion Matrix\n",
    "from sklearn import metrics\n",
    "print(metrics.confusion_matrix(y_test,predictions))"
   ]
  },
  {
   "cell_type": "code",
   "execution_count": 25,
   "id": "18b3ba8c",
   "metadata": {
    "scrolled": true
   },
   "outputs": [
    {
     "name": "stdout",
     "output_type": "stream",
     "text": [
      "                       precision    recall  f1-score   support\n",
      "\n",
      "              Mockery       0.62      0.22      0.32        23\n",
      "               Normal       0.62      0.82      0.71        34\n",
      "               Racist       0.00      0.00      0.00         5\n",
      "Religious affiliation       0.50      0.33      0.40         3\n",
      "              Violent       0.15      0.40      0.22         5\n",
      "\n",
      "             accuracy                           0.51        70\n",
      "            macro avg       0.38      0.35      0.33        70\n",
      "         weighted avg       0.54      0.51      0.48        70\n",
      "\n"
     ]
    }
   ],
   "source": [
    "# Classification report\n",
    "print(metrics.classification_report(y_test,predictions)) "
   ]
  },
  {
   "cell_type": "code",
   "execution_count": 26,
   "id": "567088cc",
   "metadata": {},
   "outputs": [
    {
     "name": "stdout",
     "output_type": "stream",
     "text": [
      "0.5142857142857142\n"
     ]
    }
   ],
   "source": [
    "# Accuracy\n",
    "print(metrics.accuracy_score(y_test,predictions))"
   ]
  },
  {
   "cell_type": "code",
   "execution_count": 25,
   "id": "59322cf0",
   "metadata": {},
   "outputs": [],
   "source": [
    "tst =  \"انت  واحد حقير وما بتستحي ا\""
   ]
  },
  {
   "cell_type": "code",
   "execution_count": 26,
   "id": "ca08372e",
   "metadata": {},
   "outputs": [
    {
     "data": {
      "text/plain": [
       "'Mockery'"
      ]
     },
     "execution_count": 26,
     "metadata": {},
     "output_type": "execute_result"
    }
   ],
   "source": [
    "text_clf.predict([tst])[0]"
   ]
  },
  {
   "cell_type": "code",
   "execution_count": 27,
   "id": "f4528ff6",
   "metadata": {},
   "outputs": [
    {
     "name": "stdout",
     "output_type": "stream",
     "text": [
      "0\n",
      "Tweet: اشم ريحت زباله يمكن سني حقير\n",
      "Real Prediction: Racist ||  Model Prediction: Violent\n",
      "1\n",
      "Tweet: هاي ميّل غزّيل غزّيل ميّل\n",
      "Real Prediction: Normal ||  Model Prediction: Mockery\n",
      "2\n",
      "Tweet: عوى شي جديد\n",
      "Real Prediction: Mockery ||  Model Prediction: Normal\n",
      "3\n",
      "Tweet: كأنك ابنه عم دافع عنه بيخلق\n",
      "Real Prediction: Normal ||  Model Prediction: Normal\n",
      "4\n",
      "Tweet: كنت سوري يمكن كنا عذرناك انك تكون اعرابي وجاي تاكل هوا هون بحط البوط بتمك ولاك\n",
      "Real Prediction: Racist ||  Model Prediction: Violent\n",
      "5\n",
      "Tweet: عنجد بهيم هلق قطر أودعت المبلغ شان الفوائد\n",
      "Real Prediction: Mockery ||  Model Prediction: Racist\n",
      "6\n",
      "Tweet: ردود الشعب اللبناني كفاية رئيس الحزب توحيد العرب قال انت معروف مذهبك مره ومره ضد ولك\n",
      "Real Prediction: Normal ||  Model Prediction: Normal\n",
      "7\n",
      "Tweet: روح تعالج حمار انت\n",
      "Real Prediction: Mockery ||  Model Prediction: Mockery\n",
      "8\n",
      "Tweet: التعليقات اهتمت بالعنوان وتجاوزت المضمون فقال وهذا صحيح فنحن الجزائر ايام ازمتنا الامنية اصطف الفلسطينيون العرب ضدنا وقاطعونا فعرفات الذى انلم يتغدى الجزائر يتعشى قاطعنا ولم يزر الجزائر لمدة سنوات وهذا اعلان الدولة الفلسطينية ارضنا وهذا مافعله الحمساويون سوريا . نعاقب بسببكم وتتخلون عنا حقيقة يكن الاختيار المبدا والدولار اخترتم الدولار فانا اشاهد الفلسطينى بلباس انيق اتحسر\n",
      "Real Prediction: Normal ||  Model Prediction: Normal\n",
      "9\n",
      "Tweet: قصدك البغل جبران باسيل؟؟؟\n",
      "Real Prediction: Mockery ||  Model Prediction: Mockery\n",
      "10\n",
      "Tweet: مين طفى الضو\n",
      "Real Prediction: Normal ||  Model Prediction: Normal\n",
      "11\n",
      "Tweet: بدري عّم يقبض حق تغريدته مبارح ضد قطر\n",
      "Real Prediction: Normal ||  Model Prediction: Normal\n",
      "12\n",
      "Tweet: انت بتمل الحكي استحييييي\n",
      "Real Prediction: Normal ||  Model Prediction: Violent\n",
      "13\n",
      "Tweet: ليش بتكرهيه جبران باسيل أصدق لبنان والكذابين أكيد مش يحبوه الغيرة قاسية صاحبها\n",
      "Real Prediction: Normal ||  Model Prediction: Violent\n",
      "14\n",
      "Tweet: لاينفعه الدواء يعالجه الا الكي\n",
      "Real Prediction: Mockery ||  Model Prediction: Normal\n",
      "15\n",
      "Tweet: تزيد هالإشاعات يصير عنّا ثقة أكتر أكتر بالملك جبران باسيل\n",
      "Real Prediction: Normal ||  Model Prediction: Normal\n",
      "16\n",
      "Tweet: بيساهل ابن زانية صباحك نور استاذنا\n",
      "Real Prediction: Mockery ||  Model Prediction: Violent\n",
      "17\n",
      "Tweet: طلع اذكى ميشال عون جبران باسيل مجتمعين ، انا معو لرئاسة الجمهورية للموت\n",
      "Real Prediction: Normal ||  Model Prediction: Normal\n",
      "18\n",
      "Tweet: والصرماية حسن نصر الله محور التسامح السلام با طبل ؟؟؟؟\n",
      "Real Prediction: Mockery ||  Model Prediction: Normal\n",
      "19\n",
      "Tweet: هيدا ايراني فارسي يهودي احفاد القرده الخنازير\n",
      "Real Prediction: Mockery ||  Model Prediction: Violent\n",
      "20\n",
      "Tweet: عيب الكذب صادقاً مرة واحده\n",
      "Real Prediction: Normal ||  Model Prediction: Normal\n",
      "21\n",
      "Tweet: قال الفصعون بدو يفطر بالقدس عمو خلينا نفطر حلب بالاول بعدين نتحاكى\n",
      "Real Prediction: Mockery ||  Model Prediction: Normal\n",
      "22\n",
      "Tweet: بادروهم اليونانين بالمثل للسورين بيوم الصعوبات يمرون السوريون ام عملوا عليهم تسكير شواطئ بحر اليونان\n",
      "Real Prediction: Religious affiliation ||  Model Prediction: Normal\n",
      "23\n",
      "Tweet: يجب تطهير المجتمع المسيحي الجرثومة العونيه انهم كلاب الوطن\n",
      "Real Prediction: Religious affiliation ||  Model Prediction: Normal\n",
      "24\n",
      "Tweet: يقل يعرض رأي السابق للفنان عباس النوري ويصف الرأي بالسطحي\n",
      "Real Prediction: Normal ||  Model Prediction: Normal\n",
      "25\n",
      "Tweet: وزارة المرأة بتلبقلو كتير\n",
      "Real Prediction: Normal ||  Model Prediction: Normal\n",
      "26\n",
      "Tweet: جماعة والله الفيس بوك بلشتو مشان طبق بنت بعرف وصلت لهون\n",
      "Real Prediction: Normal ||  Model Prediction: Mockery\n",
      "27\n",
      "Tweet: عزيزي وئام شو يعني رعديداً\n",
      "Real Prediction: Normal ||  Model Prediction: Normal\n",
      "28\n",
      "Tweet: واخرتك فلسطيني ابن كلب\n",
      "Real Prediction: Mockery ||  Model Prediction: Violent\n",
      "29\n",
      "Tweet: اصبر لحكم ربك فإنك بأعيننا يافلسطين\n",
      "Real Prediction: Normal ||  Model Prediction: Normal\n",
      "30\n",
      "Tweet: ياخوان والله مو عنصريه أكره السوريين والفلسطينين كره يعلم الله\n",
      "Real Prediction: Racist ||  Model Prediction: Normal\n",
      "31\n",
      "Tweet: ربي انصرنا الكافرين يااارب يااارب يااارب تتحرر فلسطين ونعيد بالقدس الشريف\n",
      "Real Prediction: Normal ||  Model Prediction: Normal\n",
      "32\n",
      "Tweet: المحاسبة النيابية\n",
      "Real Prediction: Normal ||  Model Prediction: Normal\n",
      "33\n",
      "Tweet: انا مش عربية انا فينيقية شطورة إنتي حمارة\n",
      "Real Prediction: Mockery ||  Model Prediction: Normal\n",
      "34\n",
      "Tweet: طول بالك تعرف وين الخير\n",
      "Real Prediction: Normal ||  Model Prediction: Normal\n",
      "35\n",
      "Tweet: حمار قمة يعني زبالة\n",
      "Real Prediction: Mockery ||  Model Prediction: Mockery\n",
      "36\n",
      "Tweet: انت حمار عبد الله بتستحمر\n",
      "Real Prediction: Mockery ||  Model Prediction: Mockery\n",
      "37\n",
      "Tweet: سيدي الله ياخذه مو مشكلة المشكلة بالجني الداشر العم يكتملي هالحسابات ادنى درجة درجات الادب اللباقة\n",
      "Real Prediction: Violent ||  Model Prediction: Normal\n",
      "38\n",
      "Tweet: جبران باسيل متل حبة العدس يوم الك ويوم\n",
      "Real Prediction: Normal ||  Model Prediction: Normal\n",
      "39\n",
      "Tweet: لعنه الله شيعي حقير واطي يابن وستين كلب\n",
      "Real Prediction: Religious affiliation ||  Model Prediction: Religious affiliation\n",
      "40\n",
      "Tweet: اول مرة بشوف وقاحة متل هالنوع شفلي شي دولة عندا ذرة كرامي بتقبل انو كلب سياسي متل اشرف ريفي يدافع الإرهابيي\n",
      "Real Prediction: Mockery ||  Model Prediction: Normal\n",
      "41\n",
      "Tweet: علوي وصخ\n",
      "Real Prediction: Racist ||  Model Prediction: Normal\n",
      "42\n",
      "Tweet: الخير كول هوا\n",
      "Real Prediction: Mockery ||  Model Prediction: Violent\n",
      "43\n",
      "Tweet: كول هوا هوا كول طبل\n",
      "Real Prediction: Violent ||  Model Prediction: Violent\n",
      "44\n",
      "Tweet: وئام وهاب كلب يحركة رائحة الدسم المال لاعقيدة ولاعروبه وابعد مايكون الرجوله والشرف\n",
      "Real Prediction: Mockery ||  Model Prediction: Normal\n",
      "45\n",
      "Tweet: كلامك صحيح % 100\n",
      "Real Prediction: Normal ||  Model Prediction: Normal\n",
      "46\n",
      "Tweet: فياض يهاجم جبران باسيل بعنف يتجرأ اي مسؤول لبناني بالدفاع حق اسرائيل مثلما يفعل باسيل اليوم\n",
      "Real Prediction: Normal ||  Model Prediction: Normal\n",
      "47\n",
      "Tweet: مواطن عادي بنى خيمة قرميد ليستر عائلته لتحركة اجهزة الدولة وعندما تنهب مافيا السلطة الاملاك العامة تحركوا ساكن\n",
      "Real Prediction: Normal ||  Model Prediction: Normal\n",
      "48\n",
      "Tweet: يلا طلع بقلبك حدا معبرك مبارح كنت عم تهاجم ممولينك ساعدوك الانتخابات وهاجمت امل خلص خسرت الانتخابات فهما بقا حدا عاملك حساب بعبع بدك حدا حاسس فيك وبس بدك تحكي لازم تاخد زعمائك وليد والمير طلال\n",
      "Real Prediction: Mockery ||  Model Prediction: Normal\n",
      "49\n",
      "Tweet: كلنا نحب إخواننا الفلسطنيين ....\n",
      "Real Prediction: Normal ||  Model Prediction: Normal\n",
      "50\n",
      "Tweet: ليك كول هوا وعملي بلوك\n",
      "Real Prediction: Normal ||  Model Prediction: Violent\n",
      "51\n",
      "Tweet: اللهم ارحم المسلمين والمسلمات والمؤمنين والمؤمنات أنحاء العالم\n",
      "Real Prediction: Normal ||  Model Prediction: Religious affiliation\n",
      "52\n",
      "Tweet: تخيل قديش لبنان زبالة اذا وش السحارة تبعه جيسيكا عازار\n",
      "Real Prediction: Racist ||  Model Prediction: Violent\n",
      "53\n",
      "Tweet: مجتمع الخراف سيحكمه عاجلاً ام آجلا حكومة الذئاب برتراند دي جوفنيل\n",
      "Real Prediction: Normal ||  Model Prediction: Normal\n",
      "54\n",
      "Tweet: شكلو محشش\n",
      "Real Prediction: Mockery ||  Model Prediction: Normal\n",
      "55\n",
      "Tweet: رئيس جمهورية عاجز محاسبة شخص\n",
      "Real Prediction: Normal ||  Model Prediction: Normal\n",
      "56\n",
      "Tweet: فيلم فاشل تعول الأفلام والكاميرات المعطلة\n",
      "Real Prediction: Violent ||  Model Prediction: Mockery\n",
      "57\n",
      "Tweet: بينعتب جاهلة وهبلة\n",
      "Real Prediction: Mockery ||  Model Prediction: Normal\n",
      "58\n",
      "Tweet: جبران باسيل فوبيا العصر\n",
      "Real Prediction: Normal ||  Model Prediction: Normal\n",
      "59\n",
      "Tweet: وانا الاشخاص اللي صاروا يحبو جبران باسيل ورا الهجوم\n",
      "Real Prediction: Normal ||  Model Prediction: Normal\n",
      "60\n",
      "Tweet: كول هوا يول\n",
      "Real Prediction: Violent ||  Model Prediction: Violent\n",
      "61\n",
      "Tweet: صرتي زبالة\n",
      "Real Prediction: Mockery ||  Model Prediction: Normal\n",
      "62\n",
      "Tweet: ههههههه داعشي طنط كول هوا ولاك حريمه\n",
      "Real Prediction: Mockery ||  Model Prediction: Violent\n",
      "63\n",
      "Tweet: خازوق فيك ولي بشد عمشدك عم بيحكي جعجع شو خص سعد الحريري عملكن عقدة\n",
      "Real Prediction: Violent ||  Model Prediction: Normal\n",
      "64\n",
      "Tweet: يومهن الشيعة كيوت اوبن مايندد\n",
      "Real Prediction: Mockery ||  Model Prediction: Racist\n",
      "65\n",
      "Tweet: فالرئيس السوري يثمن ويقدر مواقف فخامته ووزير الخارجية جبران باسيل تنبع رؤيتهما الاستراتيجية للصراع الشرق الاو…\n",
      "Real Prediction: Normal ||  Model Prediction: Normal\n",
      "66\n",
      "Tweet: اللهم صل وسلم وبارك سيدنا محمد وعلى اله وصحبه اجمعين\n",
      "Real Prediction: Normal ||  Model Prediction: Normal\n",
      "67\n",
      "Tweet: بدك شي شاكوش يضرب راسك ليفتح مخك السيد مش لاكشك باجرو\n",
      "Real Prediction: Mockery ||  Model Prediction: Mockery\n",
      "68\n",
      "Tweet: الله يرحمك هيك\n",
      "Real Prediction: Normal ||  Model Prediction: Normal\n",
      "69\n",
      "Tweet: إنتهت القمة أثبت جبران باسيل أنه رجل دولة بامتياز أنه المفكّر السياسي الأول صعيد البلد\n",
      "Real Prediction: Normal ||  Model Prediction: Normal\n"
     ]
    }
   ],
   "source": [
    "for count, test_tweet in enumerate(X_test):\n",
    "    print(count)\n",
    "    print(\"Tweet: {}\".format(test_tweet))\n",
    "    print(\"Real Prediction: {} ||  Model Prediction: {}\".format(y_test.values[count], predictions[count]))"
   ]
  },
  {
   "cell_type": "code",
   "execution_count": null,
   "id": "9f297d49",
   "metadata": {},
   "outputs": [],
   "source": []
  },
  {
   "cell_type": "markdown",
   "id": "ed5264e8",
   "metadata": {},
   "source": [
    "# Saving the Model"
   ]
  },
  {
   "cell_type": "code",
   "execution_count": 27,
   "id": "debe85af",
   "metadata": {},
   "outputs": [],
   "source": [
    "import pickle\n",
    "# save the model to disk\n",
    "filename = 'finalized_model_SVC.sav'\n",
    "pickle.dump(text_clf, open(filename, 'wb'))"
   ]
  },
  {
   "cell_type": "code",
   "execution_count": 74,
   "id": "14961a8f",
   "metadata": {},
   "outputs": [
    {
     "name": "stdout",
     "output_type": "stream",
     "text": [
      "0.8393162393162393\n"
     ]
    }
   ],
   "source": [
    "# some time later...\n",
    " \n",
    "# load the model from disk\n",
    "loaded_model = pickle.load(open(filename, 'rb'))\n",
    "result = loaded_model.score(X_test, y_test)\n",
    "print(result)"
   ]
  }
 ],
 "metadata": {
  "kernelspec": {
   "display_name": "Python 3.10.4 64-bit",
   "language": "python",
   "name": "python3"
  },
  "language_info": {
   "codemirror_mode": {
    "name": "ipython",
    "version": 3
   },
   "file_extension": ".py",
   "mimetype": "text/x-python",
   "name": "python",
   "nbconvert_exporter": "python",
   "pygments_lexer": "ipython3",
   "version": "3.10.4"
  },
  "vscode": {
   "interpreter": {
    "hash": "fb4569285eef3a3450cb62085a5b1e0da4bce0af555edc33dcf29baf3acc1368"
   }
  }
 },
 "nbformat": 4,
 "nbformat_minor": 5
}
