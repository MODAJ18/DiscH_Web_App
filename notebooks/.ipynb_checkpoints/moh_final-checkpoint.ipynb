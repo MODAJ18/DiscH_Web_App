{
 "cells": [
  {
   "cell_type": "code",
   "execution_count": 7,
   "id": "a26d8433",
   "metadata": {},
   "outputs": [],
   "source": [
    "import pandas as pd\n",
    "\n",
    "from sklearn.metrics import accuracy_score, classification_report\n",
    "from sklearn.feature_extraction.text import TfidfVectorizer\n",
    "from sklearn.model_selection import train_test_split"
   ]
  },
  {
   "cell_type": "code",
   "execution_count": 2,
   "id": "3fe2610b",
   "metadata": {},
   "outputs": [],
   "source": [
    "QA_df = pd.read_csv(\"../moh_test/test_data/QA_clean.csv\")"
   ]
  },
  {
   "cell_type": "markdown",
   "id": "67773ab2",
   "metadata": {},
   "source": [
    "## `1) Exploration`"
   ]
  },
  {
   "cell_type": "code",
   "execution_count": 3,
   "id": "5b61c7a4",
   "metadata": {},
   "outputs": [
    {
     "data": {
      "text/html": [
       "<div>\n",
       "<style scoped>\n",
       "    .dataframe tbody tr th:only-of-type {\n",
       "        vertical-align: middle;\n",
       "    }\n",
       "\n",
       "    .dataframe tbody tr th {\n",
       "        vertical-align: top;\n",
       "    }\n",
       "\n",
       "    .dataframe thead th {\n",
       "        text-align: right;\n",
       "    }\n",
       "</style>\n",
       "<table border=\"1\" class=\"dataframe\">\n",
       "  <thead>\n",
       "    <tr style=\"text-align: right;\">\n",
       "      <th></th>\n",
       "      <th>question_id</th>\n",
       "      <th>question_description</th>\n",
       "      <th>answer_category_num</th>\n",
       "      <th>question_description_clean</th>\n",
       "    </tr>\n",
       "  </thead>\n",
       "  <tbody>\n",
       "    <tr>\n",
       "      <th>0</th>\n",
       "      <td>1</td>\n",
       "      <td>وزير الخارجية اللبناني جبران باسيل قال في سلسل...</td>\n",
       "      <td>Religious affiliation</td>\n",
       "      <td>وزير خارجي لبناني جبران باسيل سلسله تغريد عقب ...</td>\n",
       "    </tr>\n",
       "    <tr>\n",
       "      <th>1</th>\n",
       "      <td>2</td>\n",
       "      <td>سورية بلد الحضارات تربطها بعلية او بحيوان</td>\n",
       "      <td>Violent</td>\n",
       "      <td>سوري بلد حضاره ربط عليه حيوان</td>\n",
       "    </tr>\n",
       "    <tr>\n",
       "      <th>2</th>\n",
       "      <td>4246</td>\n",
       "      <td>تقتلون وسام الحسن وتترحموعلية من أي أصناف المخ...</td>\n",
       "      <td>Racist</td>\n",
       "      <td>قتل وسام حسن وتترحموعليه اي صنف مخلوق انتم</td>\n",
       "    </tr>\n",
       "    <tr>\n",
       "      <th>3</th>\n",
       "      <td>5304</td>\n",
       "      <td>معك خبر انو بلدة قطر متل ما سميتا مساحتها اكبر...</td>\n",
       "      <td>Normal</td>\n",
       "      <td>معك نوي بلد قطر متل سمي مساحه اكبر لبنان ل عيب...</td>\n",
       "    </tr>\n",
       "    <tr>\n",
       "      <th>4</th>\n",
       "      <td>1706</td>\n",
       "      <td>للامانه قوت الموسم اللي طاف كان هوا بس متحمس ح...</td>\n",
       "      <td>Normal</td>\n",
       "      <td>امانه قوت موسم ل ي طاف هوا متحمس حق الجاي ان ا...</td>\n",
       "    </tr>\n",
       "    <tr>\n",
       "      <th>...</th>\n",
       "      <td>...</td>\n",
       "      <td>...</td>\n",
       "      <td>...</td>\n",
       "      <td>...</td>\n",
       "    </tr>\n",
       "    <tr>\n",
       "      <th>3132</th>\n",
       "      <td>3720</td>\n",
       "      <td>كلامك هراء من دون اي قيمة تذكر انت بلوة من الب...</td>\n",
       "      <td>Violent</td>\n",
       "      <td>كلام هراء قيمه ذكر بلا البلوات منتقل قتل قتيل ...</td>\n",
       "    </tr>\n",
       "    <tr>\n",
       "      <th>3133</th>\n",
       "      <td>7784</td>\n",
       "      <td>راح خبرك شو شايفة ب جبران باسيل</td>\n",
       "      <td>Normal</td>\n",
       "      <td>خبر شو شايفه جبران باسيل</td>\n",
       "    </tr>\n",
       "    <tr>\n",
       "      <th>3134</th>\n",
       "      <td>1318</td>\n",
       "      <td>كلمة جبران باسيل أخجلته وأخجلت كل الأمة العربية</td>\n",
       "      <td>Sexual harrasment</td>\n",
       "      <td>كلمه جبران باسيل اخجل اخجل امه عربي</td>\n",
       "    </tr>\n",
       "    <tr>\n",
       "      <th>3135</th>\n",
       "      <td>3153</td>\n",
       "      <td>انا مش عم خوفك يا قراع انا عم قلك انقبر انقلع ...</td>\n",
       "      <td>Violent</td>\n",
       "      <td>مش عم خوف يا قراع عم قل انقبر انقلع خلق يا قرد...</td>\n",
       "    </tr>\n",
       "    <tr>\n",
       "      <th>3136</th>\n",
       "      <td>1786</td>\n",
       "      <td>إنت و حريمك عواهر</td>\n",
       "      <td>Sexual harrasment</td>\n",
       "      <td>انت حريم عاهره</td>\n",
       "    </tr>\n",
       "  </tbody>\n",
       "</table>\n",
       "<p>3137 rows × 4 columns</p>\n",
       "</div>"
      ],
      "text/plain": [
       "      question_id                               question_description  \\\n",
       "0               1  وزير الخارجية اللبناني جبران باسيل قال في سلسل...   \n",
       "1               2          سورية بلد الحضارات تربطها بعلية او بحيوان   \n",
       "2            4246  تقتلون وسام الحسن وتترحموعلية من أي أصناف المخ...   \n",
       "3            5304  معك خبر انو بلدة قطر متل ما سميتا مساحتها اكبر...   \n",
       "4            1706  للامانه قوت الموسم اللي طاف كان هوا بس متحمس ح...   \n",
       "...           ...                                                ...   \n",
       "3132         3720  كلامك هراء من دون اي قيمة تذكر انت بلوة من الب...   \n",
       "3133         7784                    راح خبرك شو شايفة ب جبران باسيل   \n",
       "3134         1318    كلمة جبران باسيل أخجلته وأخجلت كل الأمة العربية   \n",
       "3135         3153  انا مش عم خوفك يا قراع انا عم قلك انقبر انقلع ...   \n",
       "3136         1786                                 إنت و حريمك عواهر    \n",
       "\n",
       "        answer_category_num                         question_description_clean  \n",
       "0     Religious affiliation  وزير خارجي لبناني جبران باسيل سلسله تغريد عقب ...  \n",
       "1                   Violent                      سوري بلد حضاره ربط عليه حيوان  \n",
       "2                    Racist         قتل وسام حسن وتترحموعليه اي صنف مخلوق انتم  \n",
       "3                    Normal  معك نوي بلد قطر متل سمي مساحه اكبر لبنان ل عيب...  \n",
       "4                    Normal  امانه قوت موسم ل ي طاف هوا متحمس حق الجاي ان ا...  \n",
       "...                     ...                                                ...  \n",
       "3132                Violent  كلام هراء قيمه ذكر بلا البلوات منتقل قتل قتيل ...  \n",
       "3133                 Normal                           خبر شو شايفه جبران باسيل  \n",
       "3134      Sexual harrasment                كلمه جبران باسيل اخجل اخجل امه عربي  \n",
       "3135                Violent  مش عم خوف يا قراع عم قل انقبر انقلع خلق يا قرد...  \n",
       "3136      Sexual harrasment                                     انت حريم عاهره  \n",
       "\n",
       "[3137 rows x 4 columns]"
      ]
     },
     "execution_count": 3,
     "metadata": {},
     "output_type": "execute_result"
    }
   ],
   "source": [
    "QA_df"
   ]
  },
  {
   "cell_type": "code",
   "execution_count": 5,
   "id": "3ca28ae9",
   "metadata": {},
   "outputs": [
    {
     "data": {
      "text/plain": [
       "Normal                   783\n",
       "Mockery                  761\n",
       "Violent                  572\n",
       "Religious affiliation    374\n",
       "Sexual harrasment        328\n",
       "Racist                   319\n",
       "Name: answer_category_num, dtype: int64"
      ]
     },
     "execution_count": 5,
     "metadata": {},
     "output_type": "execute_result"
    }
   ],
   "source": [
    "QA_df[\"answer_category_num\"].value_counts()"
   ]
  },
  {
   "cell_type": "markdown",
   "id": "8129df27",
   "metadata": {},
   "source": [
    "## `2) ML`"
   ]
  },
  {
   "cell_type": "markdown",
   "id": "3a724d9e",
   "metadata": {},
   "source": [
    "### 2.1 definitions"
   ]
  },
  {
   "cell_type": "code",
   "execution_count": 10,
   "id": "ae8b8ed9",
   "metadata": {},
   "outputs": [],
   "source": [
    "# Libraries\n",
    "from sklearn.linear_model import LogisticRegression\n",
    "from sklearn.ensemble import RandomForestClassifier\n",
    "from sklearn.tree import DecisionTreeClassifier\n",
    "from sklearn.neighbors import KNeighborsClassifier\n",
    "from sklearn.linear_model import SGDClassifier\n",
    "from sklearn.naive_bayes import MultinomialNB"
   ]
  },
  {
   "cell_type": "code",
   "execution_count": 11,
   "id": "4d3cdc54",
   "metadata": {},
   "outputs": [],
   "source": [
    "# Model definitions\n",
    "LogReg_model = LogisticRegression()\n",
    "RandomForestClassifier_model = RandomForestClassifier(max_depth=3, random_state=0)\n",
    "\n",
    "MultinomialNB_model = MultinomialNB(alpha=0.1, class_prior=None, fit_prior=True)\n",
    "SGDClassifier_model = SGDClassifier(class_weight='balanced', penalty='l1')\n",
    "KNeighborsClassifier_model = KNeighborsClassifier(n_neighbors=3)\n",
    "DecisionTreeClassifier_model = DecisionTreeClassifier(random_state=0)\n",
    "\n",
    "models = [LogReg_model, RandomForestClassifier_model, DecisionTreeClassifier_model,\n",
    "          SGDClassifier_model,   \n",
    "          KNeighborsClassifier_model,  MultinomialNB_model]\n",
    "model_names = ['LogisticRegression', 'RandomForestClassifier', 'DecisionTreeClassifier',\n",
    "               'SGDClassifier', 'KNeighborsClassifier', 'MultinomialNB']"
   ]
  },
  {
   "cell_type": "markdown",
   "id": "6debd9b1",
   "metadata": {},
   "source": [
    "### 2.2 training"
   ]
  },
  {
   "cell_type": "code",
   "execution_count": 43,
   "id": "1d7fc140",
   "metadata": {},
   "outputs": [],
   "source": [
    "def train_and_evaluate(df, model_names):\n",
    "    def train_models(X_tr, X_te, y_tr, y_te):\n",
    "        accuracies = []\n",
    "        for i, model in enumerate(models):\n",
    "            print(f\"Model: {model_names[i]}\")\n",
    "            model.fit(X_tr, y_tr)\n",
    "            y_pred = model.predict(X_te)\n",
    "            acc = accuracy_score(y_te, y_pred)\n",
    "            print('val accuracy %s' % acc)\n",
    "            accuracies.append(acc)\n",
    "#             print(\"----- PREDICTION DISTRIBUTION -----\")\n",
    "#             print(pd.Series(y_te).value_counts())\n",
    "#             print(pd.Series(y_pred).value_counts())\n",
    "#             print(\"----- CLASSIFICATION REPORT -----\")\n",
    "#             print(classification_report(y_te, y_pred))\n",
    "            print()\n",
    "        \n",
    "        ind_max_acc = accuracies.index(max(accuracies))\n",
    "        main_predictions = models[ind_max_acc].predict(X_te)\n",
    "        return main_predictions\n",
    "    \n",
    "    train_data, test_data = train_test_split(df, test_size=0.15, random_state=1)\n",
    "    tfidf_vectorizer = TfidfVectorizer(ngram_range=(1, 1))\n",
    "    tfidf_tr = tfidf_vectorizer.fit_transform(train_data['question_description_clean'])\n",
    "    tfidf_val = tfidf_vectorizer.transform(test_data['question_description_clean'])\n",
    "    \n",
    "    X_train, y_train = tfidf_tr, train_data['answer_category_num']\n",
    "    X_test, y_test = tfidf_val, test_data['answer_category_num']\n",
    "    predictions = train_models(X_train, X_test, y_train, y_test)\n",
    "    test_data['predictions'] = predictions\n",
    "    return test_data"
   ]
  },
  {
   "cell_type": "code",
   "execution_count": 40,
   "id": "983d5fdc",
   "metadata": {},
   "outputs": [
    {
     "name": "stdout",
     "output_type": "stream",
     "text": [
      "Model: LogisticRegression\n",
      "val accuracy 0.33970276008492567\n",
      "\n",
      "Model: RandomForestClassifier\n",
      "val accuracy 0.2760084925690021\n",
      "\n",
      "Model: DecisionTreeClassifier\n",
      "val accuracy 0.267515923566879\n",
      "\n",
      "Model: SGDClassifier\n",
      "val accuracy 0.25902335456475584\n",
      "\n",
      "Model: KNeighborsClassifier\n",
      "val accuracy 0.2653927813163482\n",
      "\n",
      "Model: MultinomialNB\n",
      "val accuracy 0.32908704883227174\n",
      "\n"
     ]
    }
   ],
   "source": [
    "test_data = train_and_evaluate(QA_df, model_names)"
   ]
  },
  {
   "cell_type": "markdown",
   "id": "dcb98626",
   "metadata": {},
   "source": [
    "`note` best model in terms of accuracy is **logisitic regression**, so we're going to assume its results for the predictions"
   ]
  },
  {
   "cell_type": "markdown",
   "id": "42ecfe79",
   "metadata": {},
   "source": [
    "### 2.3 analyzing results"
   ]
  },
  {
   "cell_type": "code",
   "execution_count": 45,
   "id": "cd2a0975",
   "metadata": {},
   "outputs": [
    {
     "name": "stdout",
     "output_type": "stream",
     "text": [
      "----- TRUE LABEL -----\n"
     ]
    },
    {
     "data": {
      "text/plain": [
       "Mockery                  118\n",
       "Normal                   118\n",
       "Violent                   89\n",
       "Religious affiliation     59\n",
       "Racist                    48\n",
       "Sexual harrasment         39\n",
       "Name: answer_category_num, dtype: int64"
      ]
     },
     "metadata": {},
     "output_type": "display_data"
    },
    {
     "name": "stdout",
     "output_type": "stream",
     "text": [
      "----- PREDICTION -----\n"
     ]
    },
    {
     "data": {
      "text/plain": [
       "Normal                   193\n",
       "Mockery                  180\n",
       "Violent                   83\n",
       "Racist                    10\n",
       "Religious affiliation      5\n",
       "Name: predictions, dtype: int64"
      ]
     },
     "metadata": {},
     "output_type": "display_data"
    }
   ],
   "source": [
    "true_label_dist = test_data[\"answer_category_num\"].value_counts()\n",
    "predictions_dist = test_data[\"predictions\"].value_counts()\n",
    "\n",
    "print(\"----- TRUE LABEL -----\")\n",
    "display(true_label_dist)\n",
    "print(\"----- PREDICTION -----\")\n",
    "display(predictions_dist)"
   ]
  },
  {
   "cell_type": "markdown",
   "id": "3a5eba82",
   "metadata": {},
   "source": [
    "`note` we can see a difference in class distribution between predictions and true labels, especially in 'Racist', 'Religious affiliation', and 'Sexual harrasment' classes"
   ]
  },
  {
   "cell_type": "code",
   "execution_count": 55,
   "id": "6b5a7770",
   "metadata": {},
   "outputs": [
    {
     "name": "stdout",
     "output_type": "stream",
     "text": [
      "----- COUNT ------\n",
      "number of correct predictions 160\n",
      "number of incorrect predictions 311\n",
      "\n",
      "----- DISTRIBUTION ------\n",
      "# predictions predicted correctly:\n"
     ]
    },
    {
     "data": {
      "text/plain": [
       "Normal                   74\n",
       "Mockery                  55\n",
       "Violent                  28\n",
       "Religious affiliation     2\n",
       "Racist                    1\n",
       "Name: predictions, dtype: int64"
      ]
     },
     "metadata": {},
     "output_type": "display_data"
    },
    {
     "name": "stdout",
     "output_type": "stream",
     "text": [
      "# predictions predicted incorrectly:\n"
     ]
    },
    {
     "data": {
      "text/plain": [
       "Mockery                  63\n",
       "Violent                  61\n",
       "Religious affiliation    57\n",
       "Racist                   47\n",
       "Normal                   44\n",
       "Sexual harrasment        39\n",
       "Name: answer_category_num, dtype: int64"
      ]
     },
     "metadata": {},
     "output_type": "display_data"
    }
   ],
   "source": [
    "correct_predictions_test_data = test_data[test_data[\"answer_category_num\"] == test_data[\"predictions\"]]\n",
    "incorrect_predictions_test_data = test_data[test_data[\"answer_category_num\"] != test_data[\"predictions\"]]\n",
    "\n",
    "print(\"----- COUNT ------\")\n",
    "print(\"number of correct predictions {}\".format(correct_predictions_test_data.shape[0]))\n",
    "print(\"number of incorrect predictions {}\".format(incorrect_predictions_test_data.shape[0]))\n",
    "print()\n",
    "\n",
    "print(\"----- DISTRIBUTION ------\")\n",
    "print(\"# predictions predicted correctly:\")\n",
    "display(correct_predictions_test_data[\"predictions\"].value_counts())\n",
    "print(\"# predictions predicted incorrectly:\")\n",
    "display(incorrect_predictions_test_data[\"answer_category_num\"].value_counts())\n",
    "print(\"original distribution:\")\n",
    "display(test_data[\"answer_category_num\"].value_counts())"
   ]
  }
 ],
 "metadata": {
  "kernelspec": {
   "display_name": "mc-tf",
   "language": "python",
   "name": "mc-tf"
  },
  "language_info": {
   "codemirror_mode": {
    "name": "ipython",
    "version": 3
   },
   "file_extension": ".py",
   "mimetype": "text/x-python",
   "name": "python",
   "nbconvert_exporter": "python",
   "pygments_lexer": "ipython3",
   "version": "3.9.15"
  }
 },
 "nbformat": 4,
 "nbformat_minor": 5
}
